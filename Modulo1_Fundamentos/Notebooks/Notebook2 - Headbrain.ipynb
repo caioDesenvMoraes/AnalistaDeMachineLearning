{
 "cells": [
  {
   "cell_type": "markdown",
   "metadata": {},
   "source": [
    "# Notebook 2 - IGTI - Módulo 1 - Headbrain\n",
    "- Autor: Caio Gabriel de Moraes\n",
    "- Data : 22/05/2020\n",
    "- LinkedIn: https://www.linkedin.com/in/caio-moraes-8026a6158/"
   ]
  },
  {
   "cell_type": "markdown",
   "metadata": {},
   "source": [
    "## Carregando as Bibliotecas"
   ]
  },
  {
   "cell_type": "code",
   "execution_count": 1,
   "metadata": {},
   "outputs": [],
   "source": [
    "# import de avisos\n",
    "import sys\n",
    "import warnings\n",
    "import matplotlib.cbook\n",
    "warnings.simplefilter(\"ignore\")\n",
    "warnings.simplefilter(action=\"ignore\", category=FutureWarning)\n",
    "warnings.filterwarnings(\"ignore\", category=FutureWarning)\n",
    "warnings.filterwarnings(\"ignore\", category=matplotlib.cbook.mplDeprecation)\n",
    "\n",
    "# import para manipulação dos dados\n",
    "import pandas as pd\n",
    "import numpy as np\n",
    "import scipy\n",
    "\n",
    "# import para a visualização dos dados\n",
    "import matplotlib.pyplot as plt\n",
    "import seaborn as sns\n",
    "\n",
    "# import para a otimização dos MSE\n",
    "from scipy.optimize import curve_fit\n",
    "\n",
    "# import para o modelo de regressão linear\n",
    "from sklearn.linear_model import LinearRegression\n",
    "\n",
    "# import para as metricas\n",
    "from sklearn.metrics import mean_absolute_error, mean_squared_error, median_absolute_error, r2_score\n",
    "\n",
    "# import para os nós que devem ser executados interativamente\n",
    "from IPython.core.interactiveshell import InteractiveShell\n",
    "InteractiveShell.ast_node_interactivity = \"all\"\n",
    "\n",
    "# declarando o tamanho máximo das linhas e colunas\n",
    "pd.options.display.max_columns = 2000\n",
    "pd.options.display.max_rows = 2000"
   ]
  },
  {
   "cell_type": "code",
   "execution_count": 2,
   "metadata": {},
   "outputs": [
    {
     "name": "stdout",
     "output_type": "stream",
     "text": [
      "seaborn    0.10.1\n",
      "scipy      1.4.1\n",
      "matplotlib 3.2.0\n",
      "pandas     1.0.3\n",
      "numpy      1.18.1\n",
      "Notebook 1 - Módulo 1 - Caio Moraes\n"
     ]
    }
   ],
   "source": [
    "# versões dos pacotes usados neste jupyter notebook\n",
    "%reload_ext watermark\n",
    "%watermark -a \"Notebook 1 - Módulo 1 - Caio Moraes\" --iversions"
   ]
  },
  {
   "cell_type": "markdown",
   "metadata": {},
   "source": [
    "## Criando as Funções"
   ]
  },
  {
   "cell_type": "code",
   "execution_count": 3,
   "metadata": {},
   "outputs": [],
   "source": [
    "# função para verificar se existe valores faltantes\n",
    "def check_missing(df, display=10):\n",
    "    temp_df = df.copy()\n",
    "    df_nan = (temp_df.isnull().sum() / len(temp_df)) * 100\n",
    "    df_missing = pd.DataFrame({\"Missing n\": temp_df.isnull().sum(), \"% Missing\": df_nan})\n",
    "    if df_missing[\"Missing n\"].sum() == 0:\n",
    "        return print(\"Não existe valores faltantes neste dataset!\")\n",
    "    else:\n",
    "        return df_missing.sort_values(\"% Missing\", ascending=False).head(display)\n",
    "\n",
    "\n",
    "# função para ver os valores distintos\n",
    "def unique_values(df):\n",
    "    print(\"-\" * 40)\n",
    "    for c in df.columns:\n",
    "        print(\"Coluna: {0}\".format(c))\n",
    "        print()\n",
    "        print(\"Valores Únicos:\")\n",
    "        print(df[c].unique())\n",
    "        print()\n",
    "        print(\"Quantidade: {0}\".format(df[c].nunique()))\n",
    "        print()\n",
    "        print(\"Menor Valor: {0}\".format(min(df[c])))\n",
    "        print(\"Maior Valor: {0}\".format(max(df[c])))\n",
    "        print(\"-\" * 40)"
   ]
  },
  {
   "cell_type": "markdown",
   "metadata": {},
   "source": [
    "## Preparando o Modelo"
   ]
  },
  {
   "cell_type": "code",
   "execution_count": 5,
   "metadata": {},
   "outputs": [],
   "source": [
    "# definindo as variáveis\n",
    "idade = [18, 25, 57, 45, 26, 64, 37, 40, 24, 33]  # variável de entrada (independente)\n",
    "salario_anual = [15000, 29000, 68000, 52000, 32000, 80000, 41000, 45000, 26000, 33000]  # variável de saída (dependente)\n",
    "\n",
    "# transformando a lista em array\n",
    "X = np.array(idade)\n",
    "y = np.array(salario_anual)"
   ]
  },
  {
   "cell_type": "markdown",
   "metadata": {},
   "source": [
    "### Observações\n",
    "- Preparamos o modelo para a aplicação da regressão linear\n",
    "- Defimos as variáveis do nosso modelo\n",
    "- A variável de entrada X é a idade\n",
    "- A variável de saída y é o salario_anual\n",
    "- Transformamos as listas em arrays"
   ]
  },
  {
   "cell_type": "markdown",
   "metadata": {},
   "source": [
    "## Aplicando a Regressão Linear"
   ]
  },
  {
   "cell_type": "markdown",
   "metadata": {},
   "source": [
    "**Manual**"
   ]
  },
  {
   "cell_type": "code",
   "execution_count": 6,
   "metadata": {},
   "outputs": [],
   "source": [
    "# define a função a ser otimizada (regressão simples)\n",
    "def equacao_linear(x, a, b):\n",
    "    return a * x + b"
   ]
  },
  {
   "cell_type": "code",
   "execution_count": 7,
   "metadata": {},
   "outputs": [],
   "source": [
    "# gera os parâmetros iniciais para o otimizador\n",
    "parametros_iniciais = np.array([1.0, 1.0])"
   ]
  },
  {
   "cell_type": "code",
   "execution_count": 8,
   "metadata": {},
   "outputs": [],
   "source": [
    "# realiza a otimização através do erro médio quadrado (MSE)\n",
    "parametros_otimizados, pcov = curve_fit(equacao_linear, X, y, parametros_iniciais)\n",
    "# parametrosOtimizados - contém os parâmetros de ajuste da curva\n",
    "# pcov - contém a covariância dos parâmteros encontrados"
   ]
  },
  {
   "cell_type": "code",
   "execution_count": 9,
   "metadata": {},
   "outputs": [],
   "source": [
    "# realiza a previsão dos dados através do modelo (constroi a equação linear)\n",
    "previsao_manual = equacao_linear(X, *parametros_otimizados)  # utiliza a função linear com os parâmetros otimizados"
   ]
  },
  {
   "cell_type": "code",
   "execution_count": 10,
   "metadata": {},
   "outputs": [],
   "source": [
    "# encontra o erro absoluto (linhas verticais)\n",
    "erro_absoluto = previsao_manual - y"
   ]
  },
  {
   "cell_type": "code",
   "execution_count": 11,
   "metadata": {},
   "outputs": [
    {
     "name": "stdout",
     "output_type": "stream",
     "text": [
      "SE: [ 4587883.33064101  6834760.82563804   413069.18137435   634115.64144357\n",
      " 18436761.23538558  4467167.3659006   1517955.21070226  1424802.59030848\n",
      "   873982.13514337 15601891.57382987]\n",
      "MSE: 5479238.909036714\n"
     ]
    }
   ],
   "source": [
    "# calcula o erro quadrado entre cada medida\n",
    "SE = np.square(erro_absoluto)\n",
    "# calcula o MSE\n",
    "MSE = np.mean(SE)\n",
    "\n",
    "print(\"SE: {0}\".format(SE))\n",
    "print(\"MSE: {0}\".format(MSE))"
   ]
  },
  {
   "cell_type": "code",
   "execution_count": 12,
   "metadata": {},
   "outputs": [
    {
     "name": "stdout",
     "output_type": "stream",
     "text": [
      "Coeficiente de Determinação: 0.9846300347582353\n"
     ]
    }
   ],
   "source": [
    "# realiza o cálculo do coeficiente de determinação\n",
    "rsquared = 1.0 - (np.var(erro_absoluto) / np.var(y))  # numpy.var - encontra a variância entre os dados do vetor\n",
    "\n",
    "# mostrando o coeficiente de determinação\n",
    "print(\"Coeficiente de Determinação: {0}\".format(rsquared))"
   ]
  },
  {
   "cell_type": "code",
   "execution_count": 13,
   "metadata": {},
   "outputs": [
    {
     "name": "stdout",
     "output_type": "stream",
     "text": [
      "Y = 1320.5325666669085X -6627.651716729711\n"
     ]
    }
   ],
   "source": [
    "# mostra os parâmetros encontrados\n",
    "print(\"Y = {0}X {1}\".format(parametros_otimizados[0], parametros_otimizados[1]))"
   ]
  },
  {
   "cell_type": "code",
   "execution_count": 14,
   "metadata": {},
   "outputs": [
    {
     "data": {
      "text/plain": [
       "[<matplotlib.lines.Line2D at 0x1e1b746d438>]"
      ]
     },
     "execution_count": 14,
     "metadata": {},
     "output_type": "execute_result"
    },
    {
     "data": {
      "text/plain": [
       "[<matplotlib.lines.Line2D at 0x1e1b7f71c88>]"
      ]
     },
     "execution_count": 14,
     "metadata": {},
     "output_type": "execute_result"
    },
    {
     "data": {
      "text/plain": [
       "Text(0.5, 0, 'Idade')"
      ]
     },
     "execution_count": 14,
     "metadata": {},
     "output_type": "execute_result"
    },
    {
     "data": {
      "text/plain": [
       "Text(0, 0.5, 'Salário Anual (R$)')"
      ]
     },
     "execution_count": 14,
     "metadata": {},
     "output_type": "execute_result"
    },
    {
     "data": {
      "image/png": "[encoded data removed]",
      "text/plain": [
       "<Figure size 400x400 with 1 Axes>"
      ]
     },
     "metadata": {
      "needs_background": "light"
     },
     "output_type": "display_data"
    }
   ],
   "source": [
    "# realiza o plot da figura\n",
    "f = plt.figure(figsize=(4, 4), dpi=100)  # indica o tamanho da figura\n",
    "axes = f.add_subplot(111)  # cria os objetos para o subplot\n",
    "\n",
    "# frealiza o plot dos dados (pontos no gráfico)\n",
    "axes.plot(X, y, 'ro')\n",
    "\n",
    "# cria os dados para serem utilizados na construção da linha (equação) \n",
    "xModel = np.linspace(min(X), max(X))  # encontra os valores maximos e mínimos da \"linha\"\n",
    "yModel = equacao_linear(xModel, *parametros_otimizados)  # aplica a função com os parâmetros obtidos\n",
    "\n",
    "# realiza o plot da \"linha\"\n",
    "axes.plot(xModel, yModel)\n",
    "plt.xlabel(\"Idade\")\n",
    "plt.ylabel(\"Salário Anual (R$)\")"
   ]
  },
  {
   "cell_type": "markdown",
   "metadata": {},
   "source": [
    "**Sklearn**"
   ]
  },
  {
   "cell_type": "code",
   "execution_count": 15,
   "metadata": {},
   "outputs": [
    {
     "data": {
      "text/plain": [
       "LinearRegression(copy_X=True, fit_intercept=True, n_jobs=None, normalize=False)"
      ]
     },
     "execution_count": 15,
     "metadata": {},
     "output_type": "execute_result"
    }
   ],
   "source": [
    "# cria o objeto do modelo de regressão\n",
    "reg = LinearRegression()\n",
    "\n",
    "# passando o reshape no X\n",
    "X_reshaped = X.reshape((-1, 1))  # na regressão linear é necessário que o X seja 2D\n",
    "\n",
    "# treinando o modelo\n",
    "reg.fit(X_reshaped, y)\n",
    "\n",
    "# realizando a previsão\n",
    "y_pred = reg.predict(X_reshaped)"
   ]
  },
  {
   "cell_type": "code",
   "execution_count": 16,
   "metadata": {},
   "outputs": [
    {
     "name": "stdout",
     "output_type": "stream",
     "text": [
      "Y = [1320.53256496]X -6627.651646877632\n"
     ]
    }
   ],
   "source": [
    "# parâmetros encontrados\n",
    "print(\"Y = {0}X {1}\".format(reg.coef_, reg.intercept_))"
   ]
  },
  {
   "cell_type": "code",
   "execution_count": 17,
   "metadata": {},
   "outputs": [],
   "source": [
    "# criando as métricas\n",
    "mean_abs = mean_absolute_error(y, y_pred)  # erro médio absoluto\n",
    "mean_squ = mean_squared_error(y, y_pred)  # erro médio quadrático\n",
    "median_abs = median_absolute_error(y, y_pred)  # erro mediano absoluto\n",
    "coef_r2 = r2_score(y, y_pred)  # coeficiente de determinação (R2)"
   ]
  },
  {
   "cell_type": "code",
   "execution_count": 18,
   "metadata": {},
   "outputs": [
    {
     "name": "stdout",
     "output_type": "stream",
     "text": [
      "Mean Abs Error:    1991.316\n",
      "Mean Squ Error:    5479238.909\n",
      "Median Abs Error:  1672.8104\n",
      "Coef Determin R2:  0.9846\n",
      "Coef Angular:     [1320.53256496]\n",
      "Coef Linear:      -6627.651646877632\n"
     ]
    }
   ],
   "source": [
    "# mostrando as métricas\n",
    "print(\"Mean Abs Error:    {0}\".format(round(mean_abs, 4)))\n",
    "print(\"Mean Squ Error:    {0}\".format(round(mean_squ, 4)))\n",
    "print(\"Median Abs Error:  {0}\".format(round(median_abs, 4)))\n",
    "print(\"Coef Determin R2:  {0}\".format(round(coef_r2, 4)))\n",
    "print(\"Coef Angular:     {0}\".format(reg.coef_))\n",
    "print(\"Coef Linear:      {0}\".format(reg.intercept_))"
   ]
  },
  {
   "cell_type": "code",
   "execution_count": 19,
   "metadata": {},
   "outputs": [
    {
     "data": {
      "text/plain": [
       "<Figure size 400x400 with 0 Axes>"
      ]
     },
     "execution_count": 19,
     "metadata": {},
     "output_type": "execute_result"
    },
    {
     "data": {
      "text/plain": [
       "<matplotlib.collections.PathCollection at 0x1e1b80229b0>"
      ]
     },
     "execution_count": 19,
     "metadata": {},
     "output_type": "execute_result"
    },
    {
     "data": {
      "text/plain": [
       "[<matplotlib.lines.Line2D at 0x1e1b7f9c048>]"
      ]
     },
     "execution_count": 19,
     "metadata": {},
     "output_type": "execute_result"
    },
    {
     "data": {
      "text/plain": [
       "Text(0.5, 0, 'Peso Declarado')"
      ]
     },
     "execution_count": 19,
     "metadata": {},
     "output_type": "execute_result"
    },
    {
     "data": {
      "text/plain": [
       "Text(0, 0.5, 'Peso Real')"
      ]
     },
     "execution_count": 19,
     "metadata": {},
     "output_type": "execute_result"
    },
    {
     "data": {
      "image/png": "[encoded data removed]",
      "text/plain": [
       "<Figure size 400x400 with 1 Axes>"
      ]
     },
     "metadata": {
      "needs_background": "light"
     },
     "output_type": "display_data"
    }
   ],
   "source": [
    "# plotando o gráfico\n",
    "plt.figure(figsize=(4, 4), dpi=100)\n",
    "plt.scatter(X_reshaped, y, color='gray')  # realiza o plot do gráfico de dispersão\n",
    "plt.plot(X_reshaped, y_pred, color='red', linewidth=2)  # realiza o plot da linha\n",
    "plt.xlabel(\"Peso Declarado\")\n",
    "plt.ylabel(\"Peso Real\")\n",
    "plt.show()"
   ]
  },
  {
   "cell_type": "markdown",
   "metadata": {},
   "source": [
    "### Observação\n",
    "Aplicamos 2 tipos de regressão linear:\n",
    "\n",
    "\n",
    "**1) Manual**\n",
    "    - Definimos a função a ser otimizada\n",
    "    - Definimos os parâmetros iniciais\n",
    "    - Realizamos a otimização através do MSE\n",
    "    - Realizamos a previsão dos dados\n",
    "    - Encontramos o erro absoluto, erro quadrático, o MSE e o coeficiente de determinação(R2)\n",
    "    - Mostramos os parâmetros otimizados encontrados\n",
    "    - Plotamos do gráfico\n",
    "    \n",
    "**2) Sklearn**\n",
    "    - Criamos o objeto do modelo de regressão\n",
    "    - Passamos o X para 2D (reshape)\n",
    "    - Treinamos o modelo\n",
    "    - Realizamos a previsão\n",
    "    - Mostramos os parâmetros otimizados encontrados (coef_, intercept_)\n",
    "    - Criamos e mostramos as métricas de avaliação\n",
    "        * Mean Abs Error:    1991.316\n",
    "        * Mean Squ Error:    5479238.909\n",
    "        * Median Abs Error:  1672.8104\n",
    "        * Coef Determin R2:  0.9846\n",
    "        * Coef Angular:     [1320.53256496]\n",
    "        * Coef Linear:      -6627.651646877632\n",
    "    - Plotamos o gráfico\n",
    "    \n",
    "\n",
    "Foram criados as duas maneiras para fins didáticos, mas podemos perceber que com o Sklearn simplifica bastante, tanto no entendimento quanto na criação, então aconselhavel o uso do sklearn."
   ]
  },
  {
   "cell_type": "markdown",
   "metadata": {},
   "source": [
    "## Aplicando a Regressão Linear em um Dataset"
   ]
  },
  {
   "cell_type": "markdown",
   "metadata": {},
   "source": [
    "### Trabalhando com o dataset"
   ]
  },
  {
   "cell_type": "code",
   "execution_count": 20,
   "metadata": {},
   "outputs": [],
   "source": [
    "# carregando o dataset\n",
    "df_headbrain = pd.read_csv('headbrain.csv')"
   ]
  },
  {
   "cell_type": "code",
   "execution_count": 21,
   "metadata": {},
   "outputs": [
    {
     "data": {
      "text/html": [
       "<div>\n",
       "<style scoped>\n",
       "    .dataframe tbody tr th:only-of-type {\n",
       "        vertical-align: middle;\n",
       "    }\n",
       "\n",
       "    .dataframe tbody tr th {\n",
       "        vertical-align: top;\n",
       "    }\n",
       "\n",
       "    .dataframe thead th {\n",
       "        text-align: right;\n",
       "    }\n",
       "</style>\n",
       "<table border=\"1\" class=\"dataframe\">\n",
       "  <thead>\n",
       "    <tr style=\"text-align: right;\">\n",
       "      <th></th>\n",
       "      <th>Gender</th>\n",
       "      <th>Age Range</th>\n",
       "      <th>Head Size(cm^3)</th>\n",
       "      <th>Brain Weight(grams)</th>\n",
       "    </tr>\n",
       "  </thead>\n",
       "  <tbody>\n",
       "    <tr>\n",
       "      <th>0</th>\n",
       "      <td>1</td>\n",
       "      <td>1</td>\n",
       "      <td>4512</td>\n",
       "      <td>1530</td>\n",
       "    </tr>\n",
       "    <tr>\n",
       "      <th>1</th>\n",
       "      <td>1</td>\n",
       "      <td>1</td>\n",
       "      <td>3738</td>\n",
       "      <td>1297</td>\n",
       "    </tr>\n",
       "    <tr>\n",
       "      <th>2</th>\n",
       "      <td>1</td>\n",
       "      <td>1</td>\n",
       "      <td>4261</td>\n",
       "      <td>1335</td>\n",
       "    </tr>\n",
       "    <tr>\n",
       "      <th>3</th>\n",
       "      <td>1</td>\n",
       "      <td>1</td>\n",
       "      <td>3777</td>\n",
       "      <td>1282</td>\n",
       "    </tr>\n",
       "    <tr>\n",
       "      <th>4</th>\n",
       "      <td>1</td>\n",
       "      <td>1</td>\n",
       "      <td>4177</td>\n",
       "      <td>1590</td>\n",
       "    </tr>\n",
       "  </tbody>\n",
       "</table>\n",
       "</div>"
      ],
      "text/plain": [
       "   Gender  Age Range  Head Size(cm^3)  Brain Weight(grams)\n",
       "0       1          1             4512                 1530\n",
       "1       1          1             3738                 1297\n",
       "2       1          1             4261                 1335\n",
       "3       1          1             3777                 1282\n",
       "4       1          1             4177                 1590"
      ]
     },
     "execution_count": 21,
     "metadata": {},
     "output_type": "execute_result"
    }
   ],
   "source": [
    "# mostrando o dataset\n",
    "df_headbrain.head()"
   ]
  },
  {
   "cell_type": "code",
   "execution_count": 22,
   "metadata": {},
   "outputs": [
    {
     "data": {
      "text/plain": [
       "(237, 4)"
      ]
     },
     "execution_count": 22,
     "metadata": {},
     "output_type": "execute_result"
    }
   ],
   "source": [
    "# mostrando a dimensão do dataser\n",
    "df_headbrain.shape"
   ]
  },
  {
   "cell_type": "code",
   "execution_count": 23,
   "metadata": {},
   "outputs": [
    {
     "name": "stdout",
     "output_type": "stream",
     "text": [
      "<class 'pandas.core.frame.DataFrame'>\n",
      "RangeIndex: 237 entries, 0 to 236\n",
      "Data columns (total 4 columns):\n",
      " #   Column               Non-Null Count  Dtype\n",
      "---  ------               --------------  -----\n",
      " 0   Gender               237 non-null    int64\n",
      " 1   Age Range            237 non-null    int64\n",
      " 2   Head Size(cm^3)      237 non-null    int64\n",
      " 3   Brain Weight(grams)  237 non-null    int64\n",
      "dtypes: int64(4)\n",
      "memory usage: 7.5 KB\n"
     ]
    }
   ],
   "source": [
    "# mostrando as informações do dataset\n",
    "df_headbrain.info()"
   ]
  },
  {
   "cell_type": "code",
   "execution_count": 24,
   "metadata": {},
   "outputs": [
    {
     "name": "stdout",
     "output_type": "stream",
     "text": [
      "----------------------------------------\n",
      "Coluna: Gender\n",
      "\n",
      "Valores Únicos:\n",
      "[1 2]\n",
      "\n",
      "Quantidade: 2\n",
      "\n",
      "Menor Valor: 1\n",
      "Maior Valor: 2\n",
      "----------------------------------------\n",
      "Coluna: Age Range\n",
      "\n",
      "Valores Únicos:\n",
      "[1 2]\n",
      "\n",
      "Quantidade: 2\n",
      "\n",
      "Menor Valor: 1\n",
      "Maior Valor: 2\n",
      "----------------------------------------\n",
      "Coluna: Head Size(cm^3)\n",
      "\n",
      "Valores Únicos:\n",
      "[4512 3738 4261 3777 4177 3585 3785 3559 3613 3982 3443 3993 3640 4208\n",
      " 3832 3876 3497 3466 3095 4424 3878 4046 3804 3710 4747 4423 4036 4022\n",
      " 3454 4175 3787 3796 4103 4161 4158 3814 3527 3748 3334 3492 3962 3505\n",
      " 4315 3863 4034 4308 3165 3641 3644 3891 3793 4270 4063 4012 3458 3890\n",
      " 4166 3935 3669 3866 3393 4442 4253 3727 3329 3415 3372 4430 4381 4008\n",
      " 3858 4121 4057 3824 3394 3558 3362 3930 3835 3830 3856 3249 3577 3933\n",
      " 3850 3309 3406 3506 3907 4160 3318 3662 3899 3700 3779 3473 3490 3654\n",
      " 3478 3495 3834 3661 3618 3648 4032 3399 3916 3695 3524 3571 3594 3383\n",
      " 3499 3589 3900 4114 3937 4200 4488 3614 4051 3782 3391 3124 4053 3582\n",
      " 3666 3532 3667 2857 3436 3791 3302 3104 3171 3572 3530 3175 3438 3903\n",
      " 3401 3267 3451 3090 3413 3323 3680 3439 3853 3156 3279 3707 4006 3269\n",
      " 3071 3548 3292 3082 3248 3358 3803 3566 3145 3503 3724 3615 3203 3609\n",
      " 3561 3979 3533 3689 3158 4005 3181 3479 3642 3632 3069 3703 3354 3000\n",
      " 3687 3556 2773 3058 3344 3493 3297 3360 3228 3277 3851 3067 3692 3402\n",
      " 3995 2720 2937 3580 2939 2989 3586 3246 3170 3268 3389 3381 2864 3740\n",
      " 3647 3716 3284 4204 3735 3218 3685 3704 3214 3233 3352]\n",
      "\n",
      "Quantidade: 221\n",
      "\n",
      "Menor Valor: 2720\n",
      "Maior Valor: 4747\n",
      "----------------------------------------\n",
      "Coluna: Brain Weight(grams)\n",
      "\n",
      "Valores Únicos:\n",
      "[1530 1297 1335 1282 1590 1300 1400 1255 1355 1375 1340 1380 1522 1208\n",
      " 1405 1358 1292 1357 1287 1275 1270 1635 1505 1490 1485 1310 1420 1318\n",
      " 1432 1364 1207 1350 1236 1250 1320 1525 1570 1422 1506 1215 1311 1224\n",
      " 1390 1225 1560 1330 1222 1415 1175 1470 1135 1154 1510 1468 1240 1195\n",
      " 1188 1252 1315 1245 1430 1279 1309 1412 1120 1220 1280 1440 1370 1192\n",
      " 1230 1346 1290 1165 1132 1242 1218 1588 1260 1425 1226 1360 1620 1295\n",
      " 1362 1173 1256 1180 1306 1125 1312 1450 1027 1235 1080 1127 1200 1334\n",
      " 1140 1243 1168 1322 1249 1321 1373 1170 1265 1302 1241 1078 1520 1460\n",
      " 1075 1190 1374 1202 1316 1210 1324 1100 1160 1205 1163 1022 1237 1204\n",
      " 1090 1076 1095 1105 1150 1305 1296  955 1070 1060 1130 1178 1142 1185\n",
      " 1012 1103 1408 1246 1110 1104]\n",
      "\n",
      "Quantidade: 146\n",
      "\n",
      "Menor Valor: 955\n",
      "Maior Valor: 1635\n",
      "----------------------------------------\n"
     ]
    }
   ],
   "source": [
    "# mostrando os valores únicos\n",
    "unique_values(df_headbrain)"
   ]
  },
  {
   "cell_type": "markdown",
   "metadata": {},
   "source": [
    "### Observação\n",
    "- Utlizamos o dataset headbrain\n",
    "- São 237 e 4 features diferentes todas são do tipo int64:\n",
    "    - Gender == Genêro: (1 / 2)\n",
    "    - Age Range == Faixa Etária: (1 / 2)\n",
    "    - Head Size(cm^3) == Tamanho da Cabeça: (221 valores diferentes do 2720 até 4747)\n",
    "    - Brain Weight(grams): Peso do Cérebro: (146 pesos diferente do 955 até 1635)"
   ]
  },
  {
   "cell_type": "markdown",
   "metadata": {},
   "source": [
    "### Análise Exploratória dos Dados"
   ]
  },
  {
   "cell_type": "code",
   "execution_count": 25,
   "metadata": {},
   "outputs": [
    {
     "data": {
      "text/html": [
       "<div>\n",
       "<style scoped>\n",
       "    .dataframe tbody tr th:only-of-type {\n",
       "        vertical-align: middle;\n",
       "    }\n",
       "\n",
       "    .dataframe tbody tr th {\n",
       "        vertical-align: top;\n",
       "    }\n",
       "\n",
       "    .dataframe thead th {\n",
       "        text-align: right;\n",
       "    }\n",
       "</style>\n",
       "<table border=\"1\" class=\"dataframe\">\n",
       "  <thead>\n",
       "    <tr style=\"text-align: right;\">\n",
       "      <th></th>\n",
       "      <th>Gender</th>\n",
       "      <th>Age Range</th>\n",
       "      <th>Head Size(cm^3)</th>\n",
       "      <th>Brain Weight(grams)</th>\n",
       "    </tr>\n",
       "  </thead>\n",
       "  <tbody>\n",
       "    <tr>\n",
       "      <th>count</th>\n",
       "      <td>237.000000</td>\n",
       "      <td>237.000000</td>\n",
       "      <td>237.000000</td>\n",
       "      <td>237.000000</td>\n",
       "    </tr>\n",
       "    <tr>\n",
       "      <th>mean</th>\n",
       "      <td>1.434599</td>\n",
       "      <td>1.535865</td>\n",
       "      <td>3633.991561</td>\n",
       "      <td>1282.873418</td>\n",
       "    </tr>\n",
       "    <tr>\n",
       "      <th>std</th>\n",
       "      <td>0.496753</td>\n",
       "      <td>0.499768</td>\n",
       "      <td>365.261422</td>\n",
       "      <td>120.340446</td>\n",
       "    </tr>\n",
       "    <tr>\n",
       "      <th>min</th>\n",
       "      <td>1.000000</td>\n",
       "      <td>1.000000</td>\n",
       "      <td>2720.000000</td>\n",
       "      <td>955.000000</td>\n",
       "    </tr>\n",
       "    <tr>\n",
       "      <th>25%</th>\n",
       "      <td>1.000000</td>\n",
       "      <td>1.000000</td>\n",
       "      <td>3389.000000</td>\n",
       "      <td>1207.000000</td>\n",
       "    </tr>\n",
       "    <tr>\n",
       "      <th>50%</th>\n",
       "      <td>1.000000</td>\n",
       "      <td>2.000000</td>\n",
       "      <td>3614.000000</td>\n",
       "      <td>1280.000000</td>\n",
       "    </tr>\n",
       "    <tr>\n",
       "      <th>75%</th>\n",
       "      <td>2.000000</td>\n",
       "      <td>2.000000</td>\n",
       "      <td>3876.000000</td>\n",
       "      <td>1350.000000</td>\n",
       "    </tr>\n",
       "    <tr>\n",
       "      <th>max</th>\n",
       "      <td>2.000000</td>\n",
       "      <td>2.000000</td>\n",
       "      <td>4747.000000</td>\n",
       "      <td>1635.000000</td>\n",
       "    </tr>\n",
       "  </tbody>\n",
       "</table>\n",
       "</div>"
      ],
      "text/plain": [
       "           Gender   Age Range  Head Size(cm^3)  Brain Weight(grams)\n",
       "count  237.000000  237.000000       237.000000           237.000000\n",
       "mean     1.434599    1.535865      3633.991561          1282.873418\n",
       "std      0.496753    0.499768       365.261422           120.340446\n",
       "min      1.000000    1.000000      2720.000000           955.000000\n",
       "25%      1.000000    1.000000      3389.000000          1207.000000\n",
       "50%      1.000000    2.000000      3614.000000          1280.000000\n",
       "75%      2.000000    2.000000      3876.000000          1350.000000\n",
       "max      2.000000    2.000000      4747.000000          1635.000000"
      ]
     },
     "execution_count": 25,
     "metadata": {},
     "output_type": "execute_result"
    }
   ],
   "source": [
    "# mosftrando a descrição do dataset\n",
    "df_headbrain.describe()"
   ]
  },
  {
   "cell_type": "markdown",
   "metadata": {},
   "source": [
    "- count = número de elementos (linhas) existente no banco de dados\n",
    "- mean = média dos valores na coluna\n",
    "- std = desvio padrão dos dados presentes na coluna\n",
    "- min = menor valor existente na coluna\n",
    "- 25% = primeiro quartil dos dados (25%)\n",
    "- 50% = segundo quartil dos dados (50%)\n",
    "- 75% = terceiro quartil dos dados (75%)\n",
    "- max = valor máximo existente na coluna"
   ]
  },
  {
   "cell_type": "code",
   "execution_count": 26,
   "metadata": {},
   "outputs": [
    {
     "name": "stdout",
     "output_type": "stream",
     "text": [
      "Não existe valores faltantes neste dataset!\n"
     ]
    }
   ],
   "source": [
    "# verificando se existe valores nulos\n",
    "check_missing(df_headbrain)"
   ]
  },
  {
   "cell_type": "markdown",
   "metadata": {},
   "source": [
    "### Verificando Anomalias"
   ]
  },
  {
   "cell_type": "code",
   "execution_count": 27,
   "metadata": {},
   "outputs": [
    {
     "data": {
      "text/plain": [
       "<matplotlib.axes._subplots.AxesSubplot at 0x1e1b81162e8>"
      ]
     },
     "execution_count": 27,
     "metadata": {},
     "output_type": "execute_result"
    },
    {
     "data": {
      "image/png": "[encoded data removed]",
      "text/plain": [
       "<Figure size 432x288 with 1 Axes>"
      ]
     },
     "metadata": {
      "needs_background": "light"
     },
     "output_type": "display_data"
    }
   ],
   "source": [
    "# constroi o boxplot para as colunas desejadas\n",
    "colunas = [\"Head Size(cm^3)\", \"Brain Weight(grams)\"]\n",
    "df_headbrain.boxplot(column=colunas)"
   ]
  },
  {
   "cell_type": "code",
   "execution_count": 28,
   "metadata": {},
   "outputs": [
    {
     "data": {
      "text/html": [
       "<div>\n",
       "<style scoped>\n",
       "    .dataframe tbody tr th:only-of-type {\n",
       "        vertical-align: middle;\n",
       "    }\n",
       "\n",
       "    .dataframe tbody tr th {\n",
       "        vertical-align: top;\n",
       "    }\n",
       "\n",
       "    .dataframe thead th {\n",
       "        text-align: right;\n",
       "    }\n",
       "</style>\n",
       "<table border=\"1\" class=\"dataframe\">\n",
       "  <thead>\n",
       "    <tr style=\"text-align: right;\">\n",
       "      <th></th>\n",
       "      <th>Gender</th>\n",
       "      <th>Age Range</th>\n",
       "      <th>Head Size(cm^3)</th>\n",
       "      <th>Brain Weight(grams)</th>\n",
       "    </tr>\n",
       "  </thead>\n",
       "  <tbody>\n",
       "    <tr>\n",
       "      <th>0</th>\n",
       "      <td>1</td>\n",
       "      <td>1</td>\n",
       "      <td>4512</td>\n",
       "      <td>1530</td>\n",
       "    </tr>\n",
       "    <tr>\n",
       "      <th>19</th>\n",
       "      <td>1</td>\n",
       "      <td>1</td>\n",
       "      <td>4424</td>\n",
       "      <td>1400</td>\n",
       "    </tr>\n",
       "    <tr>\n",
       "      <th>24</th>\n",
       "      <td>1</td>\n",
       "      <td>1</td>\n",
       "      <td>4747</td>\n",
       "      <td>1635</td>\n",
       "    </tr>\n",
       "    <tr>\n",
       "      <th>25</th>\n",
       "      <td>1</td>\n",
       "      <td>1</td>\n",
       "      <td>4423</td>\n",
       "      <td>1505</td>\n",
       "    </tr>\n",
       "    <tr>\n",
       "      <th>62</th>\n",
       "      <td>1</td>\n",
       "      <td>2</td>\n",
       "      <td>4442</td>\n",
       "      <td>1330</td>\n",
       "    </tr>\n",
       "    <tr>\n",
       "      <th>68</th>\n",
       "      <td>1</td>\n",
       "      <td>2</td>\n",
       "      <td>4430</td>\n",
       "      <td>1510</td>\n",
       "    </tr>\n",
       "    <tr>\n",
       "      <th>69</th>\n",
       "      <td>1</td>\n",
       "      <td>2</td>\n",
       "      <td>4381</td>\n",
       "      <td>1415</td>\n",
       "    </tr>\n",
       "    <tr>\n",
       "      <th>109</th>\n",
       "      <td>1</td>\n",
       "      <td>2</td>\n",
       "      <td>4430</td>\n",
       "      <td>1620</td>\n",
       "    </tr>\n",
       "    <tr>\n",
       "      <th>122</th>\n",
       "      <td>1</td>\n",
       "      <td>2</td>\n",
       "      <td>4488</td>\n",
       "      <td>1440</td>\n",
       "    </tr>\n",
       "    <tr>\n",
       "      <th>134</th>\n",
       "      <td>2</td>\n",
       "      <td>1</td>\n",
       "      <td>2857</td>\n",
       "      <td>1027</td>\n",
       "    </tr>\n",
       "    <tr>\n",
       "      <th>195</th>\n",
       "      <td>2</td>\n",
       "      <td>2</td>\n",
       "      <td>2773</td>\n",
       "      <td>1076</td>\n",
       "    </tr>\n",
       "    <tr>\n",
       "      <th>209</th>\n",
       "      <td>2</td>\n",
       "      <td>2</td>\n",
       "      <td>2720</td>\n",
       "      <td>955</td>\n",
       "    </tr>\n",
       "    <tr>\n",
       "      <th>221</th>\n",
       "      <td>2</td>\n",
       "      <td>2</td>\n",
       "      <td>2864</td>\n",
       "      <td>1012</td>\n",
       "    </tr>\n",
       "  </tbody>\n",
       "</table>\n",
       "</div>"
      ],
      "text/plain": [
       "     Gender  Age Range  Head Size(cm^3)  Brain Weight(grams)\n",
       "0         1          1             4512                 1530\n",
       "19        1          1             4424                 1400\n",
       "24        1          1             4747                 1635\n",
       "25        1          1             4423                 1505\n",
       "62        1          2             4442                 1330\n",
       "68        1          2             4430                 1510\n",
       "69        1          2             4381                 1415\n",
       "109       1          2             4430                 1620\n",
       "122       1          2             4488                 1440\n",
       "134       2          1             2857                 1027\n",
       "195       2          2             2773                 1076\n",
       "209       2          2             2720                  955\n",
       "221       2          2             2864                 1012"
      ]
     },
     "execution_count": 28,
     "metadata": {},
     "output_type": "execute_result"
    }
   ],
   "source": [
    "# Z-score para a feature Head Size(cm^3)\n",
    "z = np.abs(scipy.stats.zscore(df_headbrain[\"Head Size(cm^3)\"].values))\n",
    "threshold = 2\n",
    "result = np.where(z > threshold)\n",
    "df_headbrain_outlier = df_headbrain.iloc[result[0]]\n",
    "\n",
    "# mostrando o dataset com anômalias(outliers)\n",
    "df_headbrain_outlier"
   ]
  },
  {
   "cell_type": "code",
   "execution_count": 29,
   "metadata": {},
   "outputs": [
    {
     "name": "stdout",
     "output_type": "stream",
     "text": [
      "13\n"
     ]
    }
   ],
   "source": [
    "# mostrando a quantidade de outliers para a feature Head Size(cm^3)\n",
    "print(len(df_headbrain_outlier))"
   ]
  },
  {
   "cell_type": "code",
   "execution_count": 30,
   "metadata": {},
   "outputs": [
    {
     "data": {
      "text/html": [
       "<div>\n",
       "<style scoped>\n",
       "    .dataframe tbody tr th:only-of-type {\n",
       "        vertical-align: middle;\n",
       "    }\n",
       "\n",
       "    .dataframe tbody tr th {\n",
       "        vertical-align: top;\n",
       "    }\n",
       "\n",
       "    .dataframe thead th {\n",
       "        text-align: right;\n",
       "    }\n",
       "</style>\n",
       "<table border=\"1\" class=\"dataframe\">\n",
       "  <thead>\n",
       "    <tr style=\"text-align: right;\">\n",
       "      <th></th>\n",
       "      <th>Gender</th>\n",
       "      <th>Age Range</th>\n",
       "      <th>Head Size(cm^3)</th>\n",
       "      <th>Brain Weight(grams)</th>\n",
       "    </tr>\n",
       "  </thead>\n",
       "  <tbody>\n",
       "    <tr>\n",
       "      <th>0</th>\n",
       "      <td>1</td>\n",
       "      <td>1</td>\n",
       "      <td>4512</td>\n",
       "      <td>1530</td>\n",
       "    </tr>\n",
       "    <tr>\n",
       "      <th>4</th>\n",
       "      <td>1</td>\n",
       "      <td>1</td>\n",
       "      <td>4177</td>\n",
       "      <td>1590</td>\n",
       "    </tr>\n",
       "    <tr>\n",
       "      <th>24</th>\n",
       "      <td>1</td>\n",
       "      <td>1</td>\n",
       "      <td>4747</td>\n",
       "      <td>1635</td>\n",
       "    </tr>\n",
       "    <tr>\n",
       "      <th>42</th>\n",
       "      <td>1</td>\n",
       "      <td>1</td>\n",
       "      <td>4315</td>\n",
       "      <td>1525</td>\n",
       "    </tr>\n",
       "    <tr>\n",
       "      <th>43</th>\n",
       "      <td>1</td>\n",
       "      <td>1</td>\n",
       "      <td>3804</td>\n",
       "      <td>1570</td>\n",
       "    </tr>\n",
       "    <tr>\n",
       "      <th>57</th>\n",
       "      <td>1</td>\n",
       "      <td>2</td>\n",
       "      <td>4166</td>\n",
       "      <td>1560</td>\n",
       "    </tr>\n",
       "    <tr>\n",
       "      <th>102</th>\n",
       "      <td>1</td>\n",
       "      <td>2</td>\n",
       "      <td>3876</td>\n",
       "      <td>1588</td>\n",
       "    </tr>\n",
       "    <tr>\n",
       "      <th>109</th>\n",
       "      <td>1</td>\n",
       "      <td>2</td>\n",
       "      <td>4430</td>\n",
       "      <td>1620</td>\n",
       "    </tr>\n",
       "    <tr>\n",
       "      <th>134</th>\n",
       "      <td>2</td>\n",
       "      <td>1</td>\n",
       "      <td>2857</td>\n",
       "      <td>1027</td>\n",
       "    </tr>\n",
       "    <tr>\n",
       "      <th>187</th>\n",
       "      <td>2</td>\n",
       "      <td>2</td>\n",
       "      <td>3069</td>\n",
       "      <td>1022</td>\n",
       "    </tr>\n",
       "    <tr>\n",
       "      <th>209</th>\n",
       "      <td>2</td>\n",
       "      <td>2</td>\n",
       "      <td>2720</td>\n",
       "      <td>955</td>\n",
       "    </tr>\n",
       "    <tr>\n",
       "      <th>221</th>\n",
       "      <td>2</td>\n",
       "      <td>2</td>\n",
       "      <td>2864</td>\n",
       "      <td>1012</td>\n",
       "    </tr>\n",
       "  </tbody>\n",
       "</table>\n",
       "</div>"
      ],
      "text/plain": [
       "     Gender  Age Range  Head Size(cm^3)  Brain Weight(grams)\n",
       "0         1          1             4512                 1530\n",
       "4         1          1             4177                 1590\n",
       "24        1          1             4747                 1635\n",
       "42        1          1             4315                 1525\n",
       "43        1          1             3804                 1570\n",
       "57        1          2             4166                 1560\n",
       "102       1          2             3876                 1588\n",
       "109       1          2             4430                 1620\n",
       "134       2          1             2857                 1027\n",
       "187       2          2             3069                 1022\n",
       "209       2          2             2720                  955\n",
       "221       2          2             2864                 1012"
      ]
     },
     "execution_count": 30,
     "metadata": {},
     "output_type": "execute_result"
    }
   ],
   "source": [
    "# Z-score para a feature Brain Weight(grams)\n",
    "z = np.abs(scipy.stats.zscore(df_headbrain[\"Brain Weight(grams)\"].values))\n",
    "threshold = 2\n",
    "result = np.where(z > threshold)\n",
    "df_headbrain_outlier = df_headbrain.iloc[result[0]]\n",
    "\n",
    "# mostrando o dataset com anômalias(outliers)\n",
    "df_headbrain_outlier"
   ]
  },
  {
   "cell_type": "code",
   "execution_count": 31,
   "metadata": {},
   "outputs": [
    {
     "name": "stdout",
     "output_type": "stream",
     "text": [
      "12\n"
     ]
    }
   ],
   "source": [
    "# mostrando a quantidade de outliers para a feature Brain Weight(grams)\n",
    "print(len(df_headbrain_outlier))"
   ]
  },
  {
   "cell_type": "code",
   "execution_count": 32,
   "metadata": {},
   "outputs": [
    {
     "data": {
      "text/html": [
       "<div>\n",
       "<style scoped>\n",
       "    .dataframe tbody tr th:only-of-type {\n",
       "        vertical-align: middle;\n",
       "    }\n",
       "\n",
       "    .dataframe tbody tr th {\n",
       "        vertical-align: top;\n",
       "    }\n",
       "\n",
       "    .dataframe thead th {\n",
       "        text-align: right;\n",
       "    }\n",
       "</style>\n",
       "<table border=\"1\" class=\"dataframe\">\n",
       "  <thead>\n",
       "    <tr style=\"text-align: right;\">\n",
       "      <th></th>\n",
       "      <th>Gender</th>\n",
       "      <th>Age Range</th>\n",
       "      <th>Head Size(cm^3)</th>\n",
       "      <th>Brain Weight(grams)</th>\n",
       "    </tr>\n",
       "  </thead>\n",
       "  <tbody>\n",
       "    <tr>\n",
       "      <th>0</th>\n",
       "      <td>1</td>\n",
       "      <td>1</td>\n",
       "      <td>4512</td>\n",
       "      <td>1530</td>\n",
       "    </tr>\n",
       "    <tr>\n",
       "      <th>0</th>\n",
       "      <td>1</td>\n",
       "      <td>1</td>\n",
       "      <td>4512</td>\n",
       "      <td>1530</td>\n",
       "    </tr>\n",
       "    <tr>\n",
       "      <th>4</th>\n",
       "      <td>1</td>\n",
       "      <td>1</td>\n",
       "      <td>4177</td>\n",
       "      <td>1590</td>\n",
       "    </tr>\n",
       "    <tr>\n",
       "      <th>19</th>\n",
       "      <td>1</td>\n",
       "      <td>1</td>\n",
       "      <td>4424</td>\n",
       "      <td>1400</td>\n",
       "    </tr>\n",
       "    <tr>\n",
       "      <th>24</th>\n",
       "      <td>1</td>\n",
       "      <td>1</td>\n",
       "      <td>4747</td>\n",
       "      <td>1635</td>\n",
       "    </tr>\n",
       "    <tr>\n",
       "      <th>24</th>\n",
       "      <td>1</td>\n",
       "      <td>1</td>\n",
       "      <td>4747</td>\n",
       "      <td>1635</td>\n",
       "    </tr>\n",
       "    <tr>\n",
       "      <th>25</th>\n",
       "      <td>1</td>\n",
       "      <td>1</td>\n",
       "      <td>4423</td>\n",
       "      <td>1505</td>\n",
       "    </tr>\n",
       "    <tr>\n",
       "      <th>42</th>\n",
       "      <td>1</td>\n",
       "      <td>1</td>\n",
       "      <td>4315</td>\n",
       "      <td>1525</td>\n",
       "    </tr>\n",
       "    <tr>\n",
       "      <th>43</th>\n",
       "      <td>1</td>\n",
       "      <td>1</td>\n",
       "      <td>3804</td>\n",
       "      <td>1570</td>\n",
       "    </tr>\n",
       "    <tr>\n",
       "      <th>57</th>\n",
       "      <td>1</td>\n",
       "      <td>2</td>\n",
       "      <td>4166</td>\n",
       "      <td>1560</td>\n",
       "    </tr>\n",
       "    <tr>\n",
       "      <th>62</th>\n",
       "      <td>1</td>\n",
       "      <td>2</td>\n",
       "      <td>4442</td>\n",
       "      <td>1330</td>\n",
       "    </tr>\n",
       "    <tr>\n",
       "      <th>68</th>\n",
       "      <td>1</td>\n",
       "      <td>2</td>\n",
       "      <td>4430</td>\n",
       "      <td>1510</td>\n",
       "    </tr>\n",
       "    <tr>\n",
       "      <th>69</th>\n",
       "      <td>1</td>\n",
       "      <td>2</td>\n",
       "      <td>4381</td>\n",
       "      <td>1415</td>\n",
       "    </tr>\n",
       "    <tr>\n",
       "      <th>102</th>\n",
       "      <td>1</td>\n",
       "      <td>2</td>\n",
       "      <td>3876</td>\n",
       "      <td>1588</td>\n",
       "    </tr>\n",
       "    <tr>\n",
       "      <th>109</th>\n",
       "      <td>1</td>\n",
       "      <td>2</td>\n",
       "      <td>4430</td>\n",
       "      <td>1620</td>\n",
       "    </tr>\n",
       "    <tr>\n",
       "      <th>109</th>\n",
       "      <td>1</td>\n",
       "      <td>2</td>\n",
       "      <td>4430</td>\n",
       "      <td>1620</td>\n",
       "    </tr>\n",
       "    <tr>\n",
       "      <th>122</th>\n",
       "      <td>1</td>\n",
       "      <td>2</td>\n",
       "      <td>4488</td>\n",
       "      <td>1440</td>\n",
       "    </tr>\n",
       "    <tr>\n",
       "      <th>134</th>\n",
       "      <td>2</td>\n",
       "      <td>1</td>\n",
       "      <td>2857</td>\n",
       "      <td>1027</td>\n",
       "    </tr>\n",
       "    <tr>\n",
       "      <th>134</th>\n",
       "      <td>2</td>\n",
       "      <td>1</td>\n",
       "      <td>2857</td>\n",
       "      <td>1027</td>\n",
       "    </tr>\n",
       "    <tr>\n",
       "      <th>187</th>\n",
       "      <td>2</td>\n",
       "      <td>2</td>\n",
       "      <td>3069</td>\n",
       "      <td>1022</td>\n",
       "    </tr>\n",
       "    <tr>\n",
       "      <th>195</th>\n",
       "      <td>2</td>\n",
       "      <td>2</td>\n",
       "      <td>2773</td>\n",
       "      <td>1076</td>\n",
       "    </tr>\n",
       "    <tr>\n",
       "      <th>209</th>\n",
       "      <td>2</td>\n",
       "      <td>2</td>\n",
       "      <td>2720</td>\n",
       "      <td>955</td>\n",
       "    </tr>\n",
       "    <tr>\n",
       "      <th>209</th>\n",
       "      <td>2</td>\n",
       "      <td>2</td>\n",
       "      <td>2720</td>\n",
       "      <td>955</td>\n",
       "    </tr>\n",
       "    <tr>\n",
       "      <th>221</th>\n",
       "      <td>2</td>\n",
       "      <td>2</td>\n",
       "      <td>2864</td>\n",
       "      <td>1012</td>\n",
       "    </tr>\n",
       "    <tr>\n",
       "      <th>221</th>\n",
       "      <td>2</td>\n",
       "      <td>2</td>\n",
       "      <td>2864</td>\n",
       "      <td>1012</td>\n",
       "    </tr>\n",
       "  </tbody>\n",
       "</table>\n",
       "</div>"
      ],
      "text/plain": [
       "     Gender  Age Range  Head Size(cm^3)  Brain Weight(grams)\n",
       "0         1          1             4512                 1530\n",
       "0         1          1             4512                 1530\n",
       "4         1          1             4177                 1590\n",
       "19        1          1             4424                 1400\n",
       "24        1          1             4747                 1635\n",
       "24        1          1             4747                 1635\n",
       "25        1          1             4423                 1505\n",
       "42        1          1             4315                 1525\n",
       "43        1          1             3804                 1570\n",
       "57        1          2             4166                 1560\n",
       "62        1          2             4442                 1330\n",
       "68        1          2             4430                 1510\n",
       "69        1          2             4381                 1415\n",
       "102       1          2             3876                 1588\n",
       "109       1          2             4430                 1620\n",
       "109       1          2             4430                 1620\n",
       "122       1          2             4488                 1440\n",
       "134       2          1             2857                 1027\n",
       "134       2          1             2857                 1027\n",
       "187       2          2             3069                 1022\n",
       "195       2          2             2773                 1076\n",
       "209       2          2             2720                  955\n",
       "209       2          2             2720                  955\n",
       "221       2          2             2864                 1012\n",
       "221       2          2             2864                 1012"
      ]
     },
     "execution_count": 32,
     "metadata": {},
     "output_type": "execute_result"
    }
   ],
   "source": [
    "# Z-score para as duas features\n",
    "z = np.abs(scipy.stats.zscore(df_headbrain[colunas].values))\n",
    "threshold = 2\n",
    "result = np.where(z > threshold)\n",
    "df_headbrain_outlier = df_headbrain.iloc[result[0]]\n",
    "\n",
    "# mostrando o dataset com anômalias(outliers)\n",
    "df_headbrain_outlier"
   ]
  },
  {
   "cell_type": "code",
   "execution_count": 33,
   "metadata": {},
   "outputs": [
    {
     "data": {
      "text/plain": [
       "Int64Index([  0,   4,  19,  24,  25,  42,  43,  57,  62,  68,  69, 102, 109,\n",
       "            122, 134, 187, 195, 209, 221],\n",
       "           dtype='int64')"
      ]
     },
     "execution_count": 33,
     "metadata": {},
     "output_type": "execute_result"
    }
   ],
   "source": [
    "df_headbrain_outlier.index.unique()"
   ]
  },
  {
   "cell_type": "markdown",
   "metadata": {},
   "source": [
    "### Observações\n",
    "- Não temos valores faltantes no dataset\n",
    "- Temos 12 anomalias (outliers) para a feature Head Size(cm^3)\n",
    "- Temos 13 anomalias (outliers) para a feature Brain Weight(grams)\n",
    "- Temos 19 anomalias (outliers) ao total do dataset \n",
    "- Índices das anomalias: (0, 4, 19, 24, 25, 42, 43, 57, 62, 68, 69, 102, 109, 122, 134, 187, 195, 209, 221)\n",
    "- Alguns registros se repetem nas duas features (0, 24, 109, 134, 209, 221)"
   ]
  },
  {
   "cell_type": "markdown",
   "metadata": {},
   "source": [
    "### Explorando os Dados"
   ]
  },
  {
   "cell_type": "code",
   "execution_count": 34,
   "metadata": {},
   "outputs": [
    {
     "data": {
      "text/plain": [
       "<matplotlib.axes._subplots.AxesSubplot at 0x1e1b81a0898>"
      ]
     },
     "execution_count": 34,
     "metadata": {},
     "output_type": "execute_result"
    },
    {
     "data": {
      "text/plain": [
       "Text(0.5, 1.0, 'Distribuição dos clientes quanto ao gênero')"
      ]
     },
     "execution_count": 34,
     "metadata": {},
     "output_type": "execute_result"
    },
    {
     "data": {
      "image/png": "[encoded data removed]",
      "text/plain": [
       "<Figure size 432x288 with 1 Axes>"
      ]
     },
     "metadata": {
      "needs_background": "light"
     },
     "output_type": "display_data"
    }
   ],
   "source": [
    "# analisando a distribuição dos clientes por gênero\n",
    "sns.countplot(x=\"Gender\", data=df_headbrain)\n",
    "plt.title(\"Distribuição dos clientes quanto ao gênero\")"
   ]
  },
  {
   "cell_type": "code",
   "execution_count": 35,
   "metadata": {},
   "outputs": [
    {
     "data": {
      "text/plain": [
       "1    134\n",
       "2    103\n",
       "Name: Gender, dtype: int64"
      ]
     },
     "execution_count": 35,
     "metadata": {},
     "output_type": "execute_result"
    }
   ],
   "source": [
    "# verificando a quantidade de valores da coluna genêro\n",
    "df_headbrain[\"Gender\"].value_counts()"
   ]
  },
  {
   "cell_type": "code",
   "execution_count": 36,
   "metadata": {
    "scrolled": true
   },
   "outputs": [
    {
     "data": {
      "text/plain": [
       "<matplotlib.axes._subplots.AxesSubplot at 0x1e1b8201c18>"
      ]
     },
     "execution_count": 36,
     "metadata": {},
     "output_type": "execute_result"
    },
    {
     "data": {
      "text/plain": [
       "Text(0.5, 1.0, 'Distribuição dos clientes quanto ao gênero')"
      ]
     },
     "execution_count": 36,
     "metadata": {},
     "output_type": "execute_result"
    },
    {
     "data": {
      "image/png": "[encoded data removed]",
      "text/plain": [
       "<Figure size 432x288 with 1 Axes>"
      ]
     },
     "metadata": {
      "needs_background": "light"
     },
     "output_type": "display_data"
    }
   ],
   "source": [
    "# analisando a distribuição dos clientes por faixa etária\n",
    "sns.countplot(x=\"Age Range\", data=df_headbrain)\n",
    "plt.title(\"Distribuição dos clientes quanto ao gênero\")"
   ]
  },
  {
   "cell_type": "code",
   "execution_count": 37,
   "metadata": {},
   "outputs": [
    {
     "data": {
      "text/plain": [
       "2    127\n",
       "1    110\n",
       "Name: Age Range, dtype: int64"
      ]
     },
     "execution_count": 37,
     "metadata": {},
     "output_type": "execute_result"
    }
   ],
   "source": [
    "# verificando a quantidade de valores da coluna genêro\n",
    "df_headbrain[\"Age Range\"].value_counts()"
   ]
  },
  {
   "cell_type": "code",
   "execution_count": 38,
   "metadata": {},
   "outputs": [
    {
     "data": {
      "image/png": "[encoded data removed]",
      "text/plain": [
       "<Figure size 432x288 with 1 Axes>"
      ]
     },
     "metadata": {
      "needs_background": "light"
     },
     "output_type": "display_data"
    }
   ],
   "source": [
    "# analisando a distribuição dos pacientes quanto tamanho da cabeça através do histograma\n",
    "df_headbrain.hist(\"Head Size(cm^3)\", bins=35)  # seleciona a feature Head Size(cm^3)\n",
    "# \"bins\" indicam a quantidade de grupos que se deseja dividir os dados\n",
    "plt.title(\"Distribuição dos paciente pelo tamanho da cabeça\");  # adiciona o título ao gráfico (histograma)\n",
    "plt.xlabel(\"Peso da Cabeça\");"
   ]
  },
  {
   "cell_type": "code",
   "execution_count": 39,
   "metadata": {},
   "outputs": [
    {
     "data": {
      "text/plain": [
       "3394    3\n",
       "3399    2\n",
       "3899    2\n",
       "3165    2\n",
       "3804    2\n",
       "3876    2\n",
       "3391    2\n",
       "3479    2\n",
       "4430    2\n",
       "3156    2\n",
       "3497    2\n",
       "3571    2\n",
       "3318    2\n",
       "3779    2\n",
       "4046    2\n",
       "4253    1\n",
       "2720    1\n",
       "3233    1\n",
       "3748    1\n",
       "3071    1\n",
       "3228    1\n",
       "3738    1\n",
       "4270    1\n",
       "3735    1\n",
       "3930    1\n",
       "3218    1\n",
       "3727    1\n",
       "3214    1\n",
       "3354    1\n",
       "3724    1\n",
       "4747    1\n",
       "3716    1\n",
       "3203    1\n",
       "4114    1\n",
       "3777    1\n",
       "3248    1\n",
       "4315    1\n",
       "3834    1\n",
       "3832    1\n",
       "3824    1\n",
       "3309    1\n",
       "2939    1\n",
       "3302    1\n",
       "4261    1\n",
       "3297    1\n",
       "3493    1\n",
       "3803    1\n",
       "3292    1\n",
       "2773    1\n",
       "3249    1\n",
       "4308    1\n",
       "3793    1\n",
       "3279    1\n",
       "3277    1\n",
       "3787    1\n",
       "3785    1\n",
       "3782    1\n",
       "3269    1\n",
       "3268    1\n",
       "3267    1\n",
       "3710    1\n",
       "4166    1\n",
       "3700    1\n",
       "3707    1\n",
       "3647    1\n",
       "3644    1\n",
       "3642    1\n",
       "3641    1\n",
       "3640    1\n",
       "4051    1\n",
       "3124    1\n",
       "3344    1\n",
       "3632    1\n",
       "3609    1\n",
       "3618    1\n",
       "3104    1\n",
       "3615    1\n",
       "3614    1\n",
       "3613    1\n",
       "3175    1\n",
       "4121    1\n",
       "3095    1\n",
       "3090    1\n",
       "3284    1\n",
       "3082    1\n",
       "4103    1\n",
       "3589    1\n",
       "3835    1\n",
       "4158    1\n",
       "3648    1\n",
       "3704    1\n",
       "4161    1\n",
       "3703    1\n",
       "3329    1\n",
       "4208    1\n",
       "3695    1\n",
       "3181    1\n",
       "3692    1\n",
       "3689    1\n",
       "4200    1\n",
       "3687    1\n",
       "3685    1\n",
       "3171    1\n",
       "3170    1\n",
       "3680    1\n",
       "3158    1\n",
       "3669    1\n",
       "3667    1\n",
       "3666    1\n",
       "4177    1\n",
       "4175    1\n",
       "3662    1\n",
       "3661    1\n",
       "4160    1\n",
       "3654    1\n",
       "3323    1\n",
       "3858    1\n",
       "3334    1\n",
       "3850    1\n",
       "3000    1\n",
       "4022    1\n",
       "3530    1\n",
       "3506    1\n",
       "3505    1\n",
       "3503    1\n",
       "2989    1\n",
       "4012    1\n",
       "3499    1\n",
       "4008    1\n",
       "4006    1\n",
       "4005    1\n",
       "3492    1\n",
       "3490    1\n",
       "4512    1\n",
       "4036    1\n",
       "3594    1\n",
       "3993    1\n",
       "3478    1\n",
       "3246    1\n",
       "3473    1\n",
       "3982    1\n",
       "3979    1\n",
       "4032    1\n",
       "4034    1\n",
       "3524    1\n",
       "3556    1\n",
       "3069    1\n",
       "3580    1\n",
       "3067    1\n",
       "3577    1\n",
       "3572    1\n",
       "3058    1\n",
       "3566    1\n",
       "3561    1\n",
       "3559    1\n",
       "3558    1\n",
       "4063    1\n",
       "3995    1\n",
       "3548    1\n",
       "4057    1\n",
       "4053    1\n",
       "3814    1\n",
       "3740    1\n",
       "3533    1\n",
       "3532    1\n",
       "3145    1\n",
       "3796    1\n",
       "3527    1\n",
       "3466    1\n",
       "4488    1\n",
       "3458    1\n",
       "3878    1\n",
       "3389    1\n",
       "3900    1\n",
       "3383    1\n",
       "3381    1\n",
       "3495    1\n",
       "3891    1\n",
       "3890    1\n",
       "2864    1\n",
       "3372    1\n",
       "2857    1\n",
       "3362    1\n",
       "3393    1\n",
       "3360    1\n",
       "3358    1\n",
       "4381    1\n",
       "3866    1\n",
       "3352    1\n",
       "3863    1\n",
       "3582    1\n",
       "3856    1\n",
       "3853    1\n",
       "3851    1\n",
       "3903    1\n",
       "3907    1\n",
       "3454    1\n",
       "3937    1\n",
       "3451    1\n",
       "3962    1\n",
       "2937    1\n",
       "3586    1\n",
       "3443    1\n",
       "3791    1\n",
       "3439    1\n",
       "3438    1\n",
       "3436    1\n",
       "3830    1\n",
       "3935    1\n",
       "4204    1\n",
       "3933    1\n",
       "4442    1\n",
       "3415    1\n",
       "3413    1\n",
       "3406    1\n",
       "3916    1\n",
       "3402    1\n",
       "3401    1\n",
       "4424    1\n",
       "4423    1\n",
       "3585    1\n",
       "Name: Head Size(cm^3), dtype: int64"
      ]
     },
     "execution_count": 39,
     "metadata": {},
     "output_type": "execute_result"
    }
   ],
   "source": [
    "# verificando a quantidade de valores da feature Head Size(cm^3)\n",
    "df_headbrain[\"Head Size(cm^3)\"].value_counts()"
   ]
  },
  {
   "cell_type": "code",
   "execution_count": 40,
   "metadata": {
    "scrolled": true
   },
   "outputs": [
    {
     "data": {
      "text/plain": [
       "array([[<matplotlib.axes._subplots.AxesSubplot object at 0x000001E1B832A780>]],\n",
       "      dtype=object)"
      ]
     },
     "execution_count": 40,
     "metadata": {},
     "output_type": "execute_result"
    },
    {
     "data": {
      "text/plain": [
       "Text(0.5, 1.0, 'Distribuição dos pacientes pelo peso do cérebro')"
      ]
     },
     "execution_count": 40,
     "metadata": {},
     "output_type": "execute_result"
    },
    {
     "data": {
      "text/plain": [
       "Text(0.5, 0, 'Peso do Cérebro')"
      ]
     },
     "execution_count": 40,
     "metadata": {},
     "output_type": "execute_result"
    },
    {
     "data": {
      "image/png": "[encoded data removed]",
      "text/plain": [
       "<Figure size 432x288 with 1 Axes>"
      ]
     },
     "metadata": {
      "needs_background": "light"
     },
     "output_type": "display_data"
    }
   ],
   "source": [
    "# analisando a distribuição dos pacientes quanto peso do cérebro através do histograma\n",
    "df_headbrain.hist(\"Brain Weight(grams)\", bins=35)  # seleciona a feature Brain Weight(grams)\n",
    "# \"bins\" indicam a quantidade de grupos que se deseja dividir os dados\n",
    "plt.title(\"Distribuição dos pacientes pelo peso do cérebro\") # adiciona o título ao gráfico (histograma)\n",
    "plt.xlabel(\"Peso do Cérebro\")"
   ]
  },
  {
   "cell_type": "code",
   "execution_count": 41,
   "metadata": {},
   "outputs": [
    {
     "data": {
      "text/plain": [
       "1350    8\n",
       "1250    6\n",
       "1290    6\n",
       "1280    5\n",
       "1270    5\n",
       "1220    5\n",
       "1310    5\n",
       "1300    5\n",
       "1180    4\n",
       "1340    4\n",
       "1240    4\n",
       "1380    4\n",
       "1175    3\n",
       "1165    3\n",
       "1405    3\n",
       "1235    3\n",
       "1320    3\n",
       "1120    3\n",
       "1225    3\n",
       "1400    3\n",
       "1335    3\n",
       "1355    3\n",
       "1432    3\n",
       "1440    2\n",
       "1415    2\n",
       "1210    2\n",
       "1170    2\n",
       "1275    2\n",
       "1215    2\n",
       "1430    2\n",
       "1330    2\n",
       "1192    2\n",
       "1243    2\n",
       "1485    2\n",
       "1127    2\n",
       "1252    2\n",
       "1130    2\n",
       "1060    2\n",
       "1306    2\n",
       "1375    2\n",
       "1390    2\n",
       "1260    2\n",
       "1245    2\n",
       "1076    1\n",
       "1095    1\n",
       "1100    1\n",
       "1357    1\n",
       "1635    1\n",
       "1358    1\n",
       "1370    1\n",
       "1103    1\n",
       "1360    1\n",
       "1105    1\n",
       "1362    1\n",
       "1364    1\n",
       "1374    1\n",
       "1373    1\n",
       "1110    1\n",
       "1295    1\n",
       "1346    1\n",
       "1282    1\n",
       "1297    1\n",
       "1090    1\n",
       "1302    1\n",
       "1560    1\n",
       "1292    1\n",
       "1305    1\n",
       "1309    1\n",
       "1322    1\n",
       "1311    1\n",
       "1312    1\n",
       "1570    1\n",
       "1287    1\n",
       "1315    1\n",
       "1316    1\n",
       "1318    1\n",
       "1321    1\n",
       "1620    1\n",
       "1125    1\n",
       "1070    1\n",
       "1075    1\n",
       "1588    1\n",
       "1590    1\n",
       "1296    1\n",
       "1080    1\n",
       "1027    1\n",
       "1324    1\n",
       "1279    1\n",
       "1104    1\n",
       "1241    1\n",
       "1208    1\n",
       "955     1\n",
       "1468    1\n",
       "1470    1\n",
       "1218    1\n",
       "1222    1\n",
       "1224    1\n",
       "1226    1\n",
       "1230    1\n",
       "1490    1\n",
       "1236    1\n",
       "1237    1\n",
       "1242    1\n",
       "1132    1\n",
       "1246    1\n",
       "1505    1\n",
       "1510    1\n",
       "1255    1\n",
       "1256    1\n",
       "1204    1\n",
       "1520    1\n",
       "1265    1\n",
       "1522    1\n",
       "1142    1\n",
       "1525    1\n",
       "1530    1\n",
       "1207    1\n",
       "1205    1\n",
       "1460    1\n",
       "1202    1\n",
       "1078    1\n",
       "1135    1\n",
       "1012    1\n",
       "1140    1\n",
       "1249    1\n",
       "1334    1\n",
       "1022    1\n",
       "1408    1\n",
       "1154    1\n",
       "1412    1\n",
       "1160    1\n",
       "1163    1\n",
       "1420    1\n",
       "1422    1\n",
       "1506    1\n",
       "1168    1\n",
       "1425    1\n",
       "1173    1\n",
       "1178    1\n",
       "1185    1\n",
       "1188    1\n",
       "1190    1\n",
       "1450    1\n",
       "1195    1\n",
       "1200    1\n",
       "1150    1\n",
       "Name: Brain Weight(grams), dtype: int64"
      ]
     },
     "execution_count": 41,
     "metadata": {},
     "output_type": "execute_result"
    }
   ],
   "source": [
    "# verificando a quantidade de valores da feature Brain Weight(grams)\n",
    "df_headbrain[\"Brain Weight(grams)\"].value_counts()"
   ]
  },
  {
   "cell_type": "markdown",
   "metadata": {},
   "source": [
    "### Observações\n",
    "- Temos mais pacientes do genêro 1 do que do genêro 2:\n",
    "    - 134 Genêro 1 (56 %)\n",
    "    - 103 Genêro 2 (44 %)\n",
    "- Temos mais paciente da faixa etária 2 do que da faixa etária 1:\n",
    "    - 110 Faixa Etária 1 (53 %)\n",
    "    - 127 Faixa Etária 2 (47 %)\n",
    "- Temos mais pacientes com o tamanho da cabeça de 3394\n",
    "- E menos pacientes com o tamanho da cabeça na faixa de 2800 e 4500\n",
    "- Temos mais pacientes com o peso do cérebro de 1350\n",
    "- Temos menos pacientes com o peso do cérebro na faixá de 900 e 1200"
   ]
  },
  {
   "cell_type": "markdown",
   "metadata": {},
   "source": [
    "### Aplicando a Regressão Linear"
   ]
  },
  {
   "cell_type": "code",
   "execution_count": 42,
   "metadata": {},
   "outputs": [],
   "source": [
    "# definindo as variáveis\n",
    "X = df_headbrain[\"Head Size(cm^3)\"].values\n",
    "y = df_headbrain[\"Brain Weight(grams)\"].values\n",
    "# como o formato dos dados em cada uma das colunas do dataframe são séries é necessário converter array"
   ]
  },
  {
   "cell_type": "code",
   "execution_count": 43,
   "metadata": {},
   "outputs": [
    {
     "data": {
      "text/plain": [
       "LinearRegression(copy_X=True, fit_intercept=True, n_jobs=None, normalize=False)"
      ]
     },
     "execution_count": 43,
     "metadata": {},
     "output_type": "execute_result"
    }
   ],
   "source": [
    "# criando o objeto do modelo de regressao\n",
    "reg = LinearRegression()\n",
    "\n",
    "# passando o reshape no x\n",
    "X_reshaped = X.reshape((-1, 1))  # na regressão linear é necessário que o X seja 2D\n",
    "\n",
    "# treinando o modelo\n",
    "reg.fit(X_reshaped, y)\n",
    "\n",
    "# fazendo a previsão\n",
    "y_pred = reg.predict(X_reshaped)"
   ]
  },
  {
   "cell_type": "code",
   "execution_count": 44,
   "metadata": {},
   "outputs": [
    {
     "name": "stdout",
     "output_type": "stream",
     "text": [
      "Y = [0.26342934]X 325.5734210494428\n"
     ]
    }
   ],
   "source": [
    "# parâmetros encontrados\n",
    "print(\"Y = {0}X {1}\".format(reg.coef_, reg.intercept_))"
   ]
  },
  {
   "cell_type": "code",
   "execution_count": 45,
   "metadata": {},
   "outputs": [],
   "source": [
    "# criando as métricas\n",
    "mean_abs = mean_absolute_error(y, y_pred)\n",
    "mean_squ = mean_squared_error(y, y_pred)\n",
    "median_abs = median_absolute_error(y, y_pred)\n",
    "coef_r2 = r2_score(y, y_pred)"
   ]
  },
  {
   "cell_type": "code",
   "execution_count": 46,
   "metadata": {},
   "outputs": [
    {
     "name": "stdout",
     "output_type": "stream",
     "text": [
      "Mean Abs Error:   56.3672\n",
      "Mean Squ Error:   5201.384\n",
      "Median Abs Error: 47.9697\n",
      "Coef Determin R2: 0.6393\n",
      "Coef Angular:    [0.26342934]\n",
      "Coef Linear:      325.5734210494428\n"
     ]
    }
   ],
   "source": [
    "# mostrando as métricas\n",
    "print(\"Mean Abs Error:   {0}\".format(round(mean_abs, 4)))\n",
    "print(\"Mean Squ Error:   {0}\".format(round(mean_squ, 4)))\n",
    "print(\"Median Abs Error: {0}\".format(round(median_abs, 4)))\n",
    "print(\"Coef Determin R2: {0}\".format(round(coef_r2, 4)))\n",
    "print(\"Coef Angular:    {0}\".format(reg.coef_))\n",
    "print(\"Coef Linear:      {0}\".format(reg.intercept_))"
   ]
  },
  {
   "cell_type": "code",
   "execution_count": 47,
   "metadata": {},
   "outputs": [
    {
     "data": {
      "text/plain": [
       "<Figure size 400x400 with 0 Axes>"
      ]
     },
     "execution_count": 47,
     "metadata": {},
     "output_type": "execute_result"
    },
    {
     "data": {
      "text/plain": [
       "<matplotlib.collections.PathCollection at 0x1e1b8435780>"
      ]
     },
     "execution_count": 47,
     "metadata": {},
     "output_type": "execute_result"
    },
    {
     "data": {
      "text/plain": [
       "[<matplotlib.lines.Line2D at 0x1e1b8386e10>]"
      ]
     },
     "execution_count": 47,
     "metadata": {},
     "output_type": "execute_result"
    },
    {
     "data": {
      "text/plain": [
       "Text(0.5, 0, 'Head Size(cm^3)')"
      ]
     },
     "execution_count": 47,
     "metadata": {},
     "output_type": "execute_result"
    },
    {
     "data": {
      "text/plain": [
       "Text(0, 0.5, 'Brain Weight(grams)')"
      ]
     },
     "execution_count": 47,
     "metadata": {},
     "output_type": "execute_result"
    },
    {
     "data": {
      "image/png": "[encoded data removed]",
      "text/plain": [
       "<Figure size 400x400 with 1 Axes>"
      ]
     },
     "metadata": {
      "needs_background": "light"
     },
     "output_type": "display_data"
    }
   ],
   "source": [
    "# realiza o plot dos dados\n",
    "plt.figure(figsize=(4, 4), dpi=100)\n",
    "plt.scatter(X_reshaped, y, color='gray')  # realiza o plot do gráfico de dispersão\n",
    "plt.plot(X_reshaped, y_pred, color='red', linewidth=2)\n",
    "plt.xlabel(\"Head Size(cm^3)\")\n",
    "plt.ylabel(\"Brain Weight(grams)\")\n",
    "plt.show()"
   ]
  },
  {
   "cell_type": "markdown",
   "metadata": {},
   "source": [
    "### Observações\n",
    "- Definimos as variáveis de entrada X (Head Size(cm^3)) e de saída y (Brain Weight(grams))\n",
    "- Criamos o objeto do modelo de regressão\n",
    "- Passamos o X para 2D (reshape)\n",
    "- Treinamos o modelo\n",
    "- Realizamos a previsão\n",
    "- Mostramos os parâmetros otimizados encontrados (coef_, intercept_)\n",
    "- Criamos e mostramos as métricas de avaliação\n",
    "    * Mean Abs Error:   56.3672\n",
    "    * Mean Squ Error:   5201.384\n",
    "    * Median Abs Error: 47.9697\n",
    "    * Coef Determin R2: 0.6393\n",
    "    * Coef Angular:    [0.26342934]\n",
    "    * Coef Linear:      325.5734210494428\n",
    "- Plotamos o gráfico"
   ]
  },
  {
   "cell_type": "markdown",
   "metadata": {},
   "source": [
    "# Informações Sobre Regressão Linear\n",
    "\n",
    "### O que é regressão linear?\n",
    "- Um dos conceitos estatísticos mais utilizados dentro do machine learning\n",
    "- A regressão linear é denominada dessa forma por ser uma reta traçada a partir de uma relação em um diagrama de dispersão.\n",
    "- Essa reta resume uma relação entre os dados de duas variáveis e também pode ser utilizada para realizar previsões.\n",
    "- Sua origem vem da correlação linear, que é a verificação da existência de um relacionamento entre duas variáveis. \n",
    "- Ou seja, dado X e Y, quanto que X explica Y. Para isso, a regressão linear utiliza os pontos de dados para encontrar a melhor linha de ajuste para modelar essa relação.\n",
    "- O resultado da regressão linear é sempre um número. É utilizada adequadamente quando o dataset apresenta algum tipo de tendência de crescimento/descrescimento constante.\n",
    "- A linha traçada pode ser representada pela equação, yi = α + ßXi + εi, onde y é a variável explicada (dependente) e representa o que o modelo tentará prever; α é a contante, representa a interceptação da reta com o eixo vertical; ß representa a inclinação em relação à variável explicativa; X é a variável explicativa (independente) e ε representa os valores residuais e possíveis erros.\n",
    "- Dentro dessa equação, o algoritmo busca encontrar os valores para α e ß usando o conjunto de dados fornecido.\n",
    "- Um exemplo de regressão linear é o Preço X Demanda. Se o preço varia, é esperado que a procura também oscile de acordo com essa mudança. Ou seja, se eu aumento o preço é esperado que a demanda diminua.\n",
    "- Embora nem sempre ocorra um relação de causa e efeito, é uma forma de avaliar se duas grandezas variam concomitantemente. Essa relação pode ser direta, quando oscilam no mesmo sentido, ou inversa, quando oscilam em sentidos diferentes.\n",
    "\n",
    "### Coeficiente de Correlação\n",
    "- Para determinar se existe correlação entre duas variáveis é utilizado o coeficiente de correlação, também conhecido como coeficiente de Pearson ou coeficiente de determinação. Ele mede o grau da correlação e a direção dessa correlação (positiva ou negativa).\n",
    "- Esse coeficiente atribui valores entre -1 e 1 para determinar o grau de correlação. Quando encontramos números próximos a 1, a correlação é considerada positiva. Já quando encontramos números próximos a -1 a correlação negativa.\n",
    "- Quanto mais próximo dos extremos maior o grau de correlação e quanto mais próximo a zero menor o grau de correlação.\n",
    "- Caso o resultado da equação seja 0,98 dizemos que a correlação entre as duas variáveis é de 98%.\n",
    "- Portanto, devemos levar em conta o grau de correlação em nossas previsões. Geralmente acima de 70% consideramos uma correlação significativa.\n",
    "\n",
    "### Gráfico de Regressão Linear\n",
    "- Existem dois tipos de regressão linear: a simples, que utiliza apenas uma variável independente; e a múltipla, que utiliza mais de uma variável ​​independente."
   ]
  }
 ],
 "metadata": {
  "kernelspec": {
   "display_name": "Python 3",
   "language": "python",
   "name": "python3"
  },
  "language_info": {
   "codemirror_mode": {
    "name": "ipython",
    "version": 3
   },
   "file_extension": ".py",
   "mimetype": "text/x-python",
   "name": "python",
   "nbconvert_exporter": "python",
   "pygments_lexer": "ipython3",
   "version": "3.6.10"
  }
 },
 "nbformat": 4,
 "nbformat_minor": 4
}
