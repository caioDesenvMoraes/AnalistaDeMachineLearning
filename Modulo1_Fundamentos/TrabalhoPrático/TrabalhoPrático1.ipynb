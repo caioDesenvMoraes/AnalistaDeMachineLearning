{
 "cells": [
  {
   "cell_type": "markdown",
   "metadata": {},
   "source": [
    "# Trabalho Prático - IGTI - Modulo 01 - DATA\n",
    "- Autor: Caio Gabriel de Moraes\n",
    "- Data : 20/05/2020\n",
    "- LinkedIn: https://www.linkedin.com/in/caio-moraes-8026a6158/\n",
    "\n",
    "# Atividades\n",
    "\n",
    "Os alunos deverão desempenhar as seguintes atividades:\n",
    "1. Criar uma conta no Google.\n",
    "2. Acessar o “Google Colaboratory”\n",
    "3. Desenvolver o trabalho prático\n",
    "\n",
    "    * Para este trabalho prático, será utilizado o ambiente de desenvolvimento do Google Colab.\n",
    "    * Para acessar esse ambiente, basta ter uma conta do Google ativa e acessar o Google Drive.\n",
    "    * Dentro do Google Drive, clique em “New”, depois em “More” e em seguida selecione “Google Colaboratory”.\n",
    "    * Após acessar o “Google Colaboratory”, você será direcionado (a) para o ambiente de desenvolvimento do Google.\n",
    "    * Para essa prática será utilizada o dataset data.csv. Para baixar esse dataset acesse o link: https://drive.google.com/open?id=1P0-soA1jXBwSaB6n-ih1CwEC_CjXkPKm\n",
    "4. Responder as perguntas"
   ]
  },
  {
   "cell_type": "markdown",
   "metadata": {},
   "source": [
    "## Carregando as Bibliotecas"
   ]
  },
  {
   "cell_type": "code",
   "execution_count": 1,
   "metadata": {},
   "outputs": [],
   "source": [
    "# import de avisos\n",
    "import sys\n",
    "import warnings\n",
    "import matplotlib.cbook\n",
    "warnings.simplefilter(\"ignore\")\n",
    "warnings.simplefilter(action=\"ignore\", category=FutureWarning)\n",
    "warnings.filterwarnings(\"ignore\", category=FutureWarning)\n",
    "warnings.filterwarnings(\"ignore\", category=matplotlib.cbook.mplDeprecation)\n",
    "\n",
    "# import para manipulação dos dados\n",
    "import pandas as pd\n",
    "import numpy as np\n",
    "import scipy\n",
    "import math\n",
    "\n",
    "# import para a visualização dos dados\n",
    "import matplotlib.pyplot as plt\n",
    "import seaborn as sns\n",
    "\n",
    "# import para o modelo de regressão\n",
    "from sklearn.linear_model import LinearRegression\n",
    "\n",
    "# import para as métricas\n",
    "from sklearn.metrics import mean_absolute_error, mean_squared_error, median_absolute_error, r2_score\n",
    "\n",
    "# import para declarar os nós que devem ser executados interativamente\n",
    "from IPython.core.interactiveshell import InteractiveShell\n",
    "InteractiveShell.ast_node_interactivity = \"all\"\n",
    "\n",
    "# declarando o tamanho máximo das colunas e linhas\n",
    "pd.options.display.max_columns = 2000\n",
    "pd.options.display.max_rows = 2000"
   ]
  },
  {
   "cell_type": "code",
   "execution_count": 2,
   "metadata": {},
   "outputs": [
    {
     "name": "stdout",
     "output_type": "stream",
     "text": [
      "scipy      1.4.1\n",
      "numpy      1.18.1\n",
      "matplotlib 3.2.0\n",
      "pandas     1.0.3\n",
      "seaborn    0.10.1\n",
      "Trabalho Prático - Módulo 1 - Caio Moraes\n"
     ]
    }
   ],
   "source": [
    "# versões das bibliotecas usadas nesse jupyter notebook\n",
    "%reload_ext watermark\n",
    "%watermark -a \"Trabalho Prático - Módulo 1 - Caio Moraes\" --iversions"
   ]
  },
  {
   "cell_type": "markdown",
   "metadata": {},
   "source": [
    "## Criando as Funções"
   ]
  },
  {
   "cell_type": "code",
   "execution_count": 3,
   "metadata": {},
   "outputs": [],
   "source": [
    "# função para verificar se existe valores missing no dataset\n",
    "def check_missing(df, display=10):\n",
    "    temp_df = df.copy()\n",
    "    df_nan = (temp_df.isnull().sum() / len(temp_df)) * 100\n",
    "    df_missing = pd.DataFrame({\"Missing n\": temp_df.isnull().sum(), \"% Missing\": df_nan})\n",
    "    if df_missing[\"Missing n\"].sum() == 0:\n",
    "        return print(\"O dataset não contém valores faltantes.\")\n",
    "    else:\n",
    "        return df_missing.sort_values(\"% Missing\", ascending=False).head(display)\n",
    "\n",
    "    \n",
    "# função para mostrar os valores únicos\n",
    "def unique_values(df):\n",
    "    print(\"-\" * 40)\n",
    "    for c in df.columns:\n",
    "        print(\"Coluna: {0}\".format(c))\n",
    "        print()\n",
    "        if df[c].nunique() < 15:\n",
    "            print(\"Valores Únicos: {0}\".format(df[c].unique()))\n",
    "            print()\n",
    "        print(\"Quantidade: {0}\".format(df[c].nunique()))\n",
    "        print()\n",
    "        if df[c].dtype == np.int64 or df[c].dtype == np.float64 or df[c].dtype == np.dtype(\"M8[ns]\"):\n",
    "            print(\"Menor Valor: {0}\".format(min(df[c])))\n",
    "            print(\"Maior Valor: {0}\".format(max(df[c])))\n",
    "        print(\"-\" * 40)\n",
    "\n",
    "\n",
    "# funcao para criar um grafico de distribuicao pra cada feature do dataset\n",
    "def plot_distribuition(dataset, cols=5, width=20, height=25, hspace=0.4, wspace=0.5):\n",
    "    fig = plt.figure(figsize=(width, height))\n",
    "    fig.subplots_adjust(left=None, bottom=None, right=None, top=None, wspace=wspace, hspace=hspace)\n",
    "    rows = math.ceil(float(dataset.shape[1] / cols))\n",
    "    for i, column in enumerate(dataset.columns):\n",
    "        ax = fig.add_subplot(rows, cols, i+1)\n",
    "        ax.set_title(column)\n",
    "        if dataset.dtypes[column] == np.object:\n",
    "            g = sns.countplot(y=column, data=dataset, order=dataset[column].value_counts().index[:10])\n",
    "            substrings = [s.get_text()[:20] for s in g.get_yticklabels()]\n",
    "            g.set(yticklabels=substrings)\n",
    "            plt.xticks(rotation=25)\n",
    "        else:\n",
    "            g = sns.distplot(dataset[column])\n",
    "            plt.xticks(rotation=25)"
   ]
  },
  {
   "cell_type": "markdown",
   "metadata": {},
   "source": [
    "## Trabalhando com o Dataset"
   ]
  },
  {
   "cell_type": "code",
   "execution_count": 4,
   "metadata": {},
   "outputs": [],
   "source": [
    "# carregando o dataset\n",
    "df_data = pd.read_csv(\"data.csv\")"
   ]
  },
  {
   "cell_type": "code",
   "execution_count": 5,
   "metadata": {},
   "outputs": [
    {
     "data": {
      "text/html": [
       "<div>\n",
       "<style scoped>\n",
       "    .dataframe tbody tr th:only-of-type {\n",
       "        vertical-align: middle;\n",
       "    }\n",
       "\n",
       "    .dataframe tbody tr th {\n",
       "        vertical-align: top;\n",
       "    }\n",
       "\n",
       "    .dataframe thead th {\n",
       "        text-align: right;\n",
       "    }\n",
       "</style>\n",
       "<table border=\"1\" class=\"dataframe\">\n",
       "  <thead>\n",
       "    <tr style=\"text-align: right;\">\n",
       "      <th></th>\n",
       "      <th>valid_import</th>\n",
       "      <th>item</th>\n",
       "      <th>importer_id</th>\n",
       "      <th>exporter_id</th>\n",
       "      <th>country_of_origin</th>\n",
       "      <th>declared_quantity</th>\n",
       "      <th>declared_cost</th>\n",
       "      <th>mode_of_transport</th>\n",
       "      <th>route</th>\n",
       "      <th>date_of_departure</th>\n",
       "      <th>date_of_arrival</th>\n",
       "      <th>declared_weight</th>\n",
       "      <th>actual_weight</th>\n",
       "      <th>days_in_transit</th>\n",
       "    </tr>\n",
       "  </thead>\n",
       "  <tbody>\n",
       "    <tr>\n",
       "      <th>0</th>\n",
       "      <td>True</td>\n",
       "      <td>cigar</td>\n",
       "      <td>111</td>\n",
       "      <td>222</td>\n",
       "      <td>India</td>\n",
       "      <td>129</td>\n",
       "      <td>3784.402551</td>\n",
       "      <td>sea</td>\n",
       "      <td>asia</td>\n",
       "      <td>04/25/2019</td>\n",
       "      <td>05/13/2019</td>\n",
       "      <td>1608.605135</td>\n",
       "      <td>1637.661221</td>\n",
       "      <td>18.232857</td>\n",
       "    </tr>\n",
       "    <tr>\n",
       "      <th>1</th>\n",
       "      <td>True</td>\n",
       "      <td>cigar</td>\n",
       "      <td>111</td>\n",
       "      <td>222</td>\n",
       "      <td>India</td>\n",
       "      <td>104</td>\n",
       "      <td>3081.350806</td>\n",
       "      <td>sea</td>\n",
       "      <td>america</td>\n",
       "      <td>04/22/2019</td>\n",
       "      <td>05/24/2019</td>\n",
       "      <td>831.719301</td>\n",
       "      <td>848.273419</td>\n",
       "      <td>32.436029</td>\n",
       "    </tr>\n",
       "    <tr>\n",
       "      <th>2</th>\n",
       "      <td>True</td>\n",
       "      <td>cigar</td>\n",
       "      <td>111</td>\n",
       "      <td>222</td>\n",
       "      <td>India</td>\n",
       "      <td>130</td>\n",
       "      <td>4414.125741</td>\n",
       "      <td>sea</td>\n",
       "      <td>europe</td>\n",
       "      <td>04/29/2019</td>\n",
       "      <td>05/16/2019</td>\n",
       "      <td>1527.704165</td>\n",
       "      <td>1582.063911</td>\n",
       "      <td>16.996206</td>\n",
       "    </tr>\n",
       "    <tr>\n",
       "      <th>3</th>\n",
       "      <td>True</td>\n",
       "      <td>cigar</td>\n",
       "      <td>111</td>\n",
       "      <td>222</td>\n",
       "      <td>India</td>\n",
       "      <td>143</td>\n",
       "      <td>2533.535991</td>\n",
       "      <td>sea</td>\n",
       "      <td>panama</td>\n",
       "      <td>05/05/2019</td>\n",
       "      <td>05/25/2019</td>\n",
       "      <td>1138.680563</td>\n",
       "      <td>1179.993817</td>\n",
       "      <td>19.965886</td>\n",
       "    </tr>\n",
       "    <tr>\n",
       "      <th>4</th>\n",
       "      <td>True</td>\n",
       "      <td>cigar</td>\n",
       "      <td>111</td>\n",
       "      <td>222</td>\n",
       "      <td>China</td>\n",
       "      <td>141</td>\n",
       "      <td>4396.397887</td>\n",
       "      <td>sea</td>\n",
       "      <td>asia</td>\n",
       "      <td>05/14/2019</td>\n",
       "      <td>06/05/2019</td>\n",
       "      <td>761.744581</td>\n",
       "      <td>781.735080</td>\n",
       "      <td>22.160034</td>\n",
       "    </tr>\n",
       "  </tbody>\n",
       "</table>\n",
       "</div>"
      ],
      "text/plain": [
       "   valid_import   item  importer_id  exporter_id country_of_origin  \\\n",
       "0          True  cigar          111          222             India   \n",
       "1          True  cigar          111          222             India   \n",
       "2          True  cigar          111          222             India   \n",
       "3          True  cigar          111          222             India   \n",
       "4          True  cigar          111          222             China   \n",
       "\n",
       "   declared_quantity  declared_cost mode_of_transport    route  \\\n",
       "0                129    3784.402551               sea     asia   \n",
       "1                104    3081.350806               sea  america   \n",
       "2                130    4414.125741               sea   europe   \n",
       "3                143    2533.535991               sea   panama   \n",
       "4                141    4396.397887               sea     asia   \n",
       "\n",
       "  date_of_departure date_of_arrival  declared_weight  actual_weight  \\\n",
       "0        04/25/2019      05/13/2019      1608.605135    1637.661221   \n",
       "1        04/22/2019      05/24/2019       831.719301     848.273419   \n",
       "2        04/29/2019      05/16/2019      1527.704165    1582.063911   \n",
       "3        05/05/2019      05/25/2019      1138.680563    1179.993817   \n",
       "4        05/14/2019      06/05/2019       761.744581     781.735080   \n",
       "\n",
       "   days_in_transit  \n",
       "0        18.232857  \n",
       "1        32.436029  \n",
       "2        16.996206  \n",
       "3        19.965886  \n",
       "4        22.160034  "
      ]
     },
     "execution_count": 5,
     "metadata": {},
     "output_type": "execute_result"
    }
   ],
   "source": [
    "# mostrando o dataset\n",
    "df_data.head()"
   ]
  },
  {
   "cell_type": "code",
   "execution_count": 6,
   "metadata": {},
   "outputs": [
    {
     "data": {
      "text/plain": [
       "(120, 14)"
      ]
     },
     "execution_count": 6,
     "metadata": {},
     "output_type": "execute_result"
    }
   ],
   "source": [
    "# mostrando a dimensao do dataset\n",
    "df_data.shape"
   ]
  },
  {
   "cell_type": "code",
   "execution_count": 7,
   "metadata": {},
   "outputs": [
    {
     "name": "stdout",
     "output_type": "stream",
     "text": [
      "<class 'pandas.core.frame.DataFrame'>\n",
      "RangeIndex: 120 entries, 0 to 119\n",
      "Data columns (total 14 columns):\n",
      " #   Column             Non-Null Count  Dtype  \n",
      "---  ------             --------------  -----  \n",
      " 0   valid_import       120 non-null    bool   \n",
      " 1   item               120 non-null    object \n",
      " 2   importer_id        120 non-null    int64  \n",
      " 3   exporter_id        120 non-null    int64  \n",
      " 4   country_of_origin  120 non-null    object \n",
      " 5   declared_quantity  120 non-null    int64  \n",
      " 6   declared_cost      120 non-null    float64\n",
      " 7   mode_of_transport  120 non-null    object \n",
      " 8   route              120 non-null    object \n",
      " 9   date_of_departure  120 non-null    object \n",
      " 10  date_of_arrival    120 non-null    object \n",
      " 11  declared_weight    120 non-null    float64\n",
      " 12  actual_weight      120 non-null    float64\n",
      " 13  days_in_transit    120 non-null    float64\n",
      "dtypes: bool(1), float64(4), int64(3), object(6)\n",
      "memory usage: 12.4+ KB\n"
     ]
    }
   ],
   "source": [
    "# mostranso as informações do dataset\n",
    "df_data.info()"
   ]
  },
  {
   "cell_type": "code",
   "execution_count": 8,
   "metadata": {},
   "outputs": [],
   "source": [
    "# transformando as data de object para datetime\n",
    "df_data[\"date_of_arrival\"] = pd.to_datetime(df_data[\"date_of_arrival\"])\n",
    "df_data[\"date_of_departure\"] = pd.to_datetime(df_data[\"date_of_departure\"])"
   ]
  },
  {
   "cell_type": "code",
   "execution_count": 9,
   "metadata": {},
   "outputs": [
    {
     "name": "stdout",
     "output_type": "stream",
     "text": [
      "<class 'pandas.core.frame.DataFrame'>\n",
      "RangeIndex: 120 entries, 0 to 119\n",
      "Data columns (total 14 columns):\n",
      " #   Column             Non-Null Count  Dtype         \n",
      "---  ------             --------------  -----         \n",
      " 0   valid_import       120 non-null    bool          \n",
      " 1   item               120 non-null    object        \n",
      " 2   importer_id        120 non-null    int64         \n",
      " 3   exporter_id        120 non-null    int64         \n",
      " 4   country_of_origin  120 non-null    object        \n",
      " 5   declared_quantity  120 non-null    int64         \n",
      " 6   declared_cost      120 non-null    float64       \n",
      " 7   mode_of_transport  120 non-null    object        \n",
      " 8   route              120 non-null    object        \n",
      " 9   date_of_departure  120 non-null    datetime64[ns]\n",
      " 10  date_of_arrival    120 non-null    datetime64[ns]\n",
      " 11  declared_weight    120 non-null    float64       \n",
      " 12  actual_weight      120 non-null    float64       \n",
      " 13  days_in_transit    120 non-null    float64       \n",
      "dtypes: bool(1), datetime64[ns](2), float64(4), int64(3), object(4)\n",
      "memory usage: 12.4+ KB\n"
     ]
    }
   ],
   "source": [
    "# mostrando as informações do dataset\n",
    "df_data.info()"
   ]
  },
  {
   "cell_type": "code",
   "execution_count": 10,
   "metadata": {},
   "outputs": [
    {
     "name": "stdout",
     "output_type": "stream",
     "text": [
      "----------------------------------------\n",
      "Coluna: valid_import\n",
      "\n",
      "Valores Únicos: [ True False]\n",
      "\n",
      "Quantidade: 2\n",
      "\n",
      "----------------------------------------\n",
      "Coluna: item\n",
      "\n",
      "Valores Únicos: ['cigar']\n",
      "\n",
      "Quantidade: 1\n",
      "\n",
      "----------------------------------------\n",
      "Coluna: importer_id\n",
      "\n",
      "Valores Únicos: [111]\n",
      "\n",
      "Quantidade: 1\n",
      "\n",
      "Menor Valor: 111\n",
      "Maior Valor: 111\n",
      "----------------------------------------\n",
      "Coluna: exporter_id\n",
      "\n",
      "Valores Únicos: [222]\n",
      "\n",
      "Quantidade: 1\n",
      "\n",
      "Menor Valor: 222\n",
      "Maior Valor: 222\n",
      "----------------------------------------\n",
      "Coluna: country_of_origin\n",
      "\n",
      "Valores Únicos: ['India' 'China' 'USA' 'France' 'Italy']\n",
      "\n",
      "Quantidade: 5\n",
      "\n",
      "----------------------------------------\n",
      "Coluna: declared_quantity\n",
      "\n",
      "Quantidade: 45\n",
      "\n",
      "Menor Valor: 100\n",
      "Maior Valor: 149\n",
      "----------------------------------------\n",
      "Coluna: declared_cost\n",
      "\n",
      "Quantidade: 120\n",
      "\n",
      "Menor Valor: 1441.012419437322\n",
      "Maior Valor: 14281.325361521347\n",
      "----------------------------------------\n",
      "Coluna: mode_of_transport\n",
      "\n",
      "Valores Únicos: ['sea']\n",
      "\n",
      "Quantidade: 1\n",
      "\n",
      "----------------------------------------\n",
      "Coluna: route\n",
      "\n",
      "Valores Únicos: ['asia' 'america' 'europe' 'panama']\n",
      "\n",
      "Quantidade: 4\n",
      "\n",
      "----------------------------------------\n",
      "Coluna: date_of_departure\n",
      "\n",
      "Quantidade: 29\n",
      "\n",
      "Menor Valor: 2019-04-18 00:00:00\n",
      "Maior Valor: 2019-05-17 00:00:00\n",
      "----------------------------------------\n",
      "Coluna: date_of_arrival\n",
      "\n",
      "Quantidade: 59\n",
      "\n",
      "Menor Valor: 2019-05-06 00:00:00\n",
      "Maior Valor: 2019-10-07 00:00:00\n",
      "----------------------------------------\n",
      "Coluna: declared_weight\n",
      "\n",
      "Quantidade: 120\n",
      "\n",
      "Menor Valor: 18.45950929867384\n",
      "Maior Valor: 2806.3389552811987\n",
      "----------------------------------------\n",
      "Coluna: actual_weight\n",
      "\n",
      "Quantidade: 120\n",
      "\n",
      "Menor Valor: 19.275241172129892\n",
      "Maior Valor: 2918.681682943731\n",
      "----------------------------------------\n",
      "Coluna: days_in_transit\n",
      "\n",
      "Quantidade: 120\n",
      "\n",
      "Menor Valor: 12.410324929897143\n",
      "Maior Valor: 147.78756002163325\n",
      "----------------------------------------\n"
     ]
    }
   ],
   "source": [
    "# verificando os valores únicos\n",
    "unique_values(df_data)"
   ]
  },
  {
   "cell_type": "markdown",
   "metadata": {},
   "source": [
    "### Observações\n",
    "- São 120 registros e 14 features:\n",
    "    - valid_import == Importação Válida: Do tipo bool (True False)\n",
    "    - item == Item: Do tipo object com 1 item distinto (\"Cigar\" / \"Charuto\")\n",
    "    - importer_id == ID do Importador: Do tipo int64 com 1 ID distinto (111)\n",
    "    - exporter_id == ID do Exportador: Do tipo int64 com 1 ID distinto (222)\n",
    "    - country_of_origin == País de Origem: Do tipo object com 5 países distintos (\"India\" \"China\" \"USA\" \"France\" \"Italy\")\n",
    "    - declared_quantity == Quantidade Declarada: Do tipo int64 com 45 quantidades distintos (do 100 até 149)\n",
    "    - declared_cost == Custo Declarado: Do tipo float64 com 120 custos distintos (do 1441.012 até 14281.325)\n",
    "    - mode_of_transport\t== Modo de Transporte: Do tipo object com 1 modo de transporte distinto (\"sea\" / \"mar\")\n",
    "    - route == Rota: Do tipo object com 4 rotas distintas (\"asia\" \"america\" \"europe\" \"panama\")\n",
    "    - date_of_departure == Data de Partida: Do tipo datetime64 com 29 datas distintas (de 2019-04-18 até 2019-05-17) \n",
    "    - date_of_arrival == Data de Chegada: Do tipo datetime64 com 59 datas distintas  (de 2019-05-06 até 2019-10-07)\n",
    "    - declared_weight == Peso Declarado: Do tipo float64 com 120 pesos distintos (de 18.45 até 2806.33)\n",
    "    - actual_weight == Peso Atual: Do tipo float64 com 120 pesos distintos (19.27 até 2918.68)\n",
    "    - days_in_transit == Dias em Trânsito: Do tipo float64 com 120 pesos distintos (12.41 até 147.78)\n",
    "- As duas features do tipo datatime (date_of_departure e date_of_arrival) eram do tipo object e transformamos no tipo datetime para podermos mostrar a maior e a menor data contida no dataset"
   ]
  },
  {
   "cell_type": "markdown",
   "metadata": {},
   "source": [
    "## Análise Exploratória dos Dados"
   ]
  },
  {
   "cell_type": "code",
   "execution_count": 11,
   "metadata": {},
   "outputs": [
    {
     "data": {
      "text/html": [
       "<div>\n",
       "<style scoped>\n",
       "    .dataframe tbody tr th:only-of-type {\n",
       "        vertical-align: middle;\n",
       "    }\n",
       "\n",
       "    .dataframe tbody tr th {\n",
       "        vertical-align: top;\n",
       "    }\n",
       "\n",
       "    .dataframe thead th {\n",
       "        text-align: right;\n",
       "    }\n",
       "</style>\n",
       "<table border=\"1\" class=\"dataframe\">\n",
       "  <thead>\n",
       "    <tr style=\"text-align: right;\">\n",
       "      <th></th>\n",
       "      <th>importer_id</th>\n",
       "      <th>exporter_id</th>\n",
       "      <th>declared_quantity</th>\n",
       "      <th>declared_cost</th>\n",
       "      <th>declared_weight</th>\n",
       "      <th>actual_weight</th>\n",
       "      <th>days_in_transit</th>\n",
       "    </tr>\n",
       "  </thead>\n",
       "  <tbody>\n",
       "    <tr>\n",
       "      <th>count</th>\n",
       "      <td>120.0</td>\n",
       "      <td>120.0</td>\n",
       "      <td>120.000000</td>\n",
       "      <td>120.000000</td>\n",
       "      <td>120.000000</td>\n",
       "      <td>120.000000</td>\n",
       "      <td>120.000000</td>\n",
       "    </tr>\n",
       "    <tr>\n",
       "      <th>mean</th>\n",
       "      <td>111.0</td>\n",
       "      <td>222.0</td>\n",
       "      <td>127.458333</td>\n",
       "      <td>6743.649881</td>\n",
       "      <td>1264.702934</td>\n",
       "      <td>1306.429806</td>\n",
       "      <td>35.424705</td>\n",
       "    </tr>\n",
       "    <tr>\n",
       "      <th>std</th>\n",
       "      <td>0.0</td>\n",
       "      <td>0.0</td>\n",
       "      <td>14.641311</td>\n",
       "      <td>2991.797050</td>\n",
       "      <td>633.149971</td>\n",
       "      <td>656.911704</td>\n",
       "      <td>26.571591</td>\n",
       "    </tr>\n",
       "    <tr>\n",
       "      <th>min</th>\n",
       "      <td>111.0</td>\n",
       "      <td>222.0</td>\n",
       "      <td>100.000000</td>\n",
       "      <td>1441.012419</td>\n",
       "      <td>18.459509</td>\n",
       "      <td>19.275241</td>\n",
       "      <td>12.410325</td>\n",
       "    </tr>\n",
       "    <tr>\n",
       "      <th>25%</th>\n",
       "      <td>111.0</td>\n",
       "      <td>222.0</td>\n",
       "      <td>115.750000</td>\n",
       "      <td>4442.903914</td>\n",
       "      <td>820.314400</td>\n",
       "      <td>841.763738</td>\n",
       "      <td>18.225625</td>\n",
       "    </tr>\n",
       "    <tr>\n",
       "      <th>50%</th>\n",
       "      <td>111.0</td>\n",
       "      <td>222.0</td>\n",
       "      <td>131.500000</td>\n",
       "      <td>6010.218745</td>\n",
       "      <td>1255.597743</td>\n",
       "      <td>1305.716419</td>\n",
       "      <td>27.044293</td>\n",
       "    </tr>\n",
       "    <tr>\n",
       "      <th>75%</th>\n",
       "      <td>111.0</td>\n",
       "      <td>222.0</td>\n",
       "      <td>139.000000</td>\n",
       "      <td>8887.095370</td>\n",
       "      <td>1711.314045</td>\n",
       "      <td>1763.681083</td>\n",
       "      <td>44.356374</td>\n",
       "    </tr>\n",
       "    <tr>\n",
       "      <th>max</th>\n",
       "      <td>111.0</td>\n",
       "      <td>222.0</td>\n",
       "      <td>149.000000</td>\n",
       "      <td>14281.325362</td>\n",
       "      <td>2806.338955</td>\n",
       "      <td>2918.681683</td>\n",
       "      <td>147.787560</td>\n",
       "    </tr>\n",
       "  </tbody>\n",
       "</table>\n",
       "</div>"
      ],
      "text/plain": [
       "       importer_id  exporter_id  declared_quantity  declared_cost  \\\n",
       "count        120.0        120.0         120.000000     120.000000   \n",
       "mean         111.0        222.0         127.458333    6743.649881   \n",
       "std            0.0          0.0          14.641311    2991.797050   \n",
       "min          111.0        222.0         100.000000    1441.012419   \n",
       "25%          111.0        222.0         115.750000    4442.903914   \n",
       "50%          111.0        222.0         131.500000    6010.218745   \n",
       "75%          111.0        222.0         139.000000    8887.095370   \n",
       "max          111.0        222.0         149.000000   14281.325362   \n",
       "\n",
       "       declared_weight  actual_weight  days_in_transit  \n",
       "count       120.000000     120.000000       120.000000  \n",
       "mean       1264.702934    1306.429806        35.424705  \n",
       "std         633.149971     656.911704        26.571591  \n",
       "min          18.459509      19.275241        12.410325  \n",
       "25%         820.314400     841.763738        18.225625  \n",
       "50%        1255.597743    1305.716419        27.044293  \n",
       "75%        1711.314045    1763.681083        44.356374  \n",
       "max        2806.338955    2918.681683       147.787560  "
      ]
     },
     "execution_count": 11,
     "metadata": {},
     "output_type": "execute_result"
    }
   ],
   "source": [
    "# mostrando a descrição do dataset\n",
    "df_data.describe()"
   ]
  },
  {
   "cell_type": "markdown",
   "metadata": {},
   "source": [
    "- count = número de elementos (linhas) existente no banco de dados\n",
    "- mean = média dos valores na coluna\n",
    "- std = desvio padrão dos dados presentes na coluna\n",
    "- min = menor valor existente na coluna\n",
    "- 25% = primeiro quartil dos dados (25%)\n",
    "- 50% = segundo quartil dos dados (50%)\n",
    "- 75% = terceiro quartil dos dados (75%)\n",
    "- max = valor máximo existente na coluna"
   ]
  },
  {
   "cell_type": "code",
   "execution_count": 12,
   "metadata": {},
   "outputs": [
    {
     "name": "stdout",
     "output_type": "stream",
     "text": [
      "O dataset não contém valores faltantes.\n"
     ]
    }
   ],
   "source": [
    "# verificando se existe valores nulos\n",
    "check_missing(df_data)"
   ]
  },
  {
   "cell_type": "code",
   "execution_count": 13,
   "metadata": {},
   "outputs": [
    {
     "data": {
      "image/png": "[encoded data removed]",
      "text/plain": [
       "<Figure size 2160x1440 with 14 Axes>"
      ]
     },
     "metadata": {
      "needs_background": "light"
     },
     "output_type": "display_data"
    }
   ],
   "source": [
    "# chamando a função do gráfico de distribuição para cada feature do dataset\n",
    "columns = df_data.columns\n",
    "plot_distribuition(df_data[columns], cols=3, width=30, height=20, hspace=0.45, wspace=0.5)"
   ]
  },
  {
   "cell_type": "markdown",
   "metadata": {},
   "source": [
    "### Observações\n",
    "- Não existem valores nulos em nosso dataset\n",
    "- Plotamos gráficos explicando cada feature contida em nosso dataset\n",
    "- Cada feature pode se dizer que plota um gráfico diferente, de acordo com seus dados\n",
    "- Cada gráfico explica as observações que fizemos acima"
   ]
  },
  {
   "cell_type": "markdown",
   "metadata": {},
   "source": [
    "## Verificando Anomalias"
   ]
  },
  {
   "cell_type": "code",
   "execution_count": 14,
   "metadata": {},
   "outputs": [
    {
     "data": {
      "text/plain": [
       "<matplotlib.axes._subplots.AxesSubplot at 0x19e16d65828>"
      ]
     },
     "execution_count": 14,
     "metadata": {},
     "output_type": "execute_result"
    },
    {
     "data": {
      "image/png": "[encoded data removed]",
      "text/plain": [
       "<Figure size 432x288 with 1 Axes>"
      ]
     },
     "metadata": {
      "needs_background": "light"
     },
     "output_type": "display_data"
    }
   ],
   "source": [
    "columns = [\"declared_quantity\", \"declared_cost\", \"declared_weight\", \"actual_weight\", \"days_in_transit\"]\n",
    "df_data.boxplot(column=columns)"
   ]
  },
  {
   "cell_type": "code",
   "execution_count": 15,
   "metadata": {},
   "outputs": [
    {
     "data": {
      "text/html": [
       "<div>\n",
       "<style scoped>\n",
       "    .dataframe tbody tr th:only-of-type {\n",
       "        vertical-align: middle;\n",
       "    }\n",
       "\n",
       "    .dataframe tbody tr th {\n",
       "        vertical-align: top;\n",
       "    }\n",
       "\n",
       "    .dataframe thead th {\n",
       "        text-align: right;\n",
       "    }\n",
       "</style>\n",
       "<table border=\"1\" class=\"dataframe\">\n",
       "  <thead>\n",
       "    <tr style=\"text-align: right;\">\n",
       "      <th></th>\n",
       "      <th>valid_import</th>\n",
       "      <th>item</th>\n",
       "      <th>importer_id</th>\n",
       "      <th>exporter_id</th>\n",
       "      <th>country_of_origin</th>\n",
       "      <th>declared_quantity</th>\n",
       "      <th>declared_cost</th>\n",
       "      <th>mode_of_transport</th>\n",
       "      <th>route</th>\n",
       "      <th>date_of_departure</th>\n",
       "      <th>date_of_arrival</th>\n",
       "      <th>declared_weight</th>\n",
       "      <th>actual_weight</th>\n",
       "      <th>days_in_transit</th>\n",
       "    </tr>\n",
       "  </thead>\n",
       "  <tbody>\n",
       "    <tr>\n",
       "      <th>18</th>\n",
       "      <td>True</td>\n",
       "      <td>cigar</td>\n",
       "      <td>111</td>\n",
       "      <td>222</td>\n",
       "      <td>Italy</td>\n",
       "      <td>138</td>\n",
       "      <td>13364.901196</td>\n",
       "      <td>sea</td>\n",
       "      <td>europe</td>\n",
       "      <td>2019-04-30</td>\n",
       "      <td>2019-05-20</td>\n",
       "      <td>1233.268557</td>\n",
       "      <td>1252.449858</td>\n",
       "      <td>19.829684</td>\n",
       "    </tr>\n",
       "    <tr>\n",
       "      <th>33</th>\n",
       "      <td>True</td>\n",
       "      <td>cigar</td>\n",
       "      <td>111</td>\n",
       "      <td>222</td>\n",
       "      <td>France</td>\n",
       "      <td>132</td>\n",
       "      <td>13142.645017</td>\n",
       "      <td>sea</td>\n",
       "      <td>america</td>\n",
       "      <td>2019-05-07</td>\n",
       "      <td>2019-06-08</td>\n",
       "      <td>1438.252279</td>\n",
       "      <td>1495.968364</td>\n",
       "      <td>31.617050</td>\n",
       "    </tr>\n",
       "    <tr>\n",
       "      <th>35</th>\n",
       "      <td>True</td>\n",
       "      <td>cigar</td>\n",
       "      <td>111</td>\n",
       "      <td>222</td>\n",
       "      <td>France</td>\n",
       "      <td>146</td>\n",
       "      <td>14281.325362</td>\n",
       "      <td>sea</td>\n",
       "      <td>panama</td>\n",
       "      <td>2019-05-05</td>\n",
       "      <td>2019-05-21</td>\n",
       "      <td>759.632361</td>\n",
       "      <td>779.116176</td>\n",
       "      <td>16.468842</td>\n",
       "    </tr>\n",
       "    <tr>\n",
       "      <th>36</th>\n",
       "      <td>True</td>\n",
       "      <td>cigar</td>\n",
       "      <td>111</td>\n",
       "      <td>222</td>\n",
       "      <td>Italy</td>\n",
       "      <td>139</td>\n",
       "      <td>13561.249072</td>\n",
       "      <td>sea</td>\n",
       "      <td>asia</td>\n",
       "      <td>2019-04-26</td>\n",
       "      <td>2019-05-18</td>\n",
       "      <td>1378.217354</td>\n",
       "      <td>1398.945854</td>\n",
       "      <td>22.102197</td>\n",
       "    </tr>\n",
       "    <tr>\n",
       "      <th>61</th>\n",
       "      <td>False</td>\n",
       "      <td>cigar</td>\n",
       "      <td>111</td>\n",
       "      <td>222</td>\n",
       "      <td>India</td>\n",
       "      <td>131</td>\n",
       "      <td>1594.074225</td>\n",
       "      <td>sea</td>\n",
       "      <td>america</td>\n",
       "      <td>2019-05-08</td>\n",
       "      <td>2019-09-01</td>\n",
       "      <td>1489.554025</td>\n",
       "      <td>1551.161701</td>\n",
       "      <td>116.140911</td>\n",
       "    </tr>\n",
       "    <tr>\n",
       "      <th>69</th>\n",
       "      <td>False</td>\n",
       "      <td>cigar</td>\n",
       "      <td>111</td>\n",
       "      <td>222</td>\n",
       "      <td>USA</td>\n",
       "      <td>140</td>\n",
       "      <td>10118.224045</td>\n",
       "      <td>sea</td>\n",
       "      <td>america</td>\n",
       "      <td>2019-05-03</td>\n",
       "      <td>2019-08-04</td>\n",
       "      <td>2406.827181</td>\n",
       "      <td>2503.169043</td>\n",
       "      <td>93.250226</td>\n",
       "    </tr>\n",
       "    <tr>\n",
       "      <th>73</th>\n",
       "      <td>False</td>\n",
       "      <td>cigar</td>\n",
       "      <td>111</td>\n",
       "      <td>222</td>\n",
       "      <td>France</td>\n",
       "      <td>110</td>\n",
       "      <td>8953.524711</td>\n",
       "      <td>sea</td>\n",
       "      <td>america</td>\n",
       "      <td>2019-05-16</td>\n",
       "      <td>2019-09-13</td>\n",
       "      <td>193.130429</td>\n",
       "      <td>200.966710</td>\n",
       "      <td>120.406246</td>\n",
       "    </tr>\n",
       "    <tr>\n",
       "      <th>74</th>\n",
       "      <td>False</td>\n",
       "      <td>cigar</td>\n",
       "      <td>111</td>\n",
       "      <td>222</td>\n",
       "      <td>France</td>\n",
       "      <td>135</td>\n",
       "      <td>12820.995855</td>\n",
       "      <td>sea</td>\n",
       "      <td>europe</td>\n",
       "      <td>2019-05-15</td>\n",
       "      <td>2019-06-01</td>\n",
       "      <td>649.710812</td>\n",
       "      <td>672.221478</td>\n",
       "      <td>16.821482</td>\n",
       "    </tr>\n",
       "    <tr>\n",
       "      <th>81</th>\n",
       "      <td>False</td>\n",
       "      <td>cigar</td>\n",
       "      <td>111</td>\n",
       "      <td>222</td>\n",
       "      <td>India</td>\n",
       "      <td>134</td>\n",
       "      <td>3326.973672</td>\n",
       "      <td>sea</td>\n",
       "      <td>america</td>\n",
       "      <td>2019-05-12</td>\n",
       "      <td>2019-10-07</td>\n",
       "      <td>280.984620</td>\n",
       "      <td>289.694339</td>\n",
       "      <td>147.787560</td>\n",
       "    </tr>\n",
       "    <tr>\n",
       "      <th>85</th>\n",
       "      <td>False</td>\n",
       "      <td>cigar</td>\n",
       "      <td>111</td>\n",
       "      <td>222</td>\n",
       "      <td>China</td>\n",
       "      <td>113</td>\n",
       "      <td>5745.640896</td>\n",
       "      <td>sea</td>\n",
       "      <td>america</td>\n",
       "      <td>2019-04-22</td>\n",
       "      <td>2019-08-28</td>\n",
       "      <td>627.941986</td>\n",
       "      <td>655.845304</td>\n",
       "      <td>128.416712</td>\n",
       "    </tr>\n",
       "    <tr>\n",
       "      <th>88</th>\n",
       "      <td>False</td>\n",
       "      <td>cigar</td>\n",
       "      <td>111</td>\n",
       "      <td>222</td>\n",
       "      <td>USA</td>\n",
       "      <td>140</td>\n",
       "      <td>6189.073792</td>\n",
       "      <td>sea</td>\n",
       "      <td>asia</td>\n",
       "      <td>2019-05-10</td>\n",
       "      <td>2019-05-31</td>\n",
       "      <td>2586.146073</td>\n",
       "      <td>2667.424305</td>\n",
       "      <td>21.405148</td>\n",
       "    </tr>\n",
       "    <tr>\n",
       "      <th>88</th>\n",
       "      <td>False</td>\n",
       "      <td>cigar</td>\n",
       "      <td>111</td>\n",
       "      <td>222</td>\n",
       "      <td>USA</td>\n",
       "      <td>140</td>\n",
       "      <td>6189.073792</td>\n",
       "      <td>sea</td>\n",
       "      <td>asia</td>\n",
       "      <td>2019-05-10</td>\n",
       "      <td>2019-05-31</td>\n",
       "      <td>2586.146073</td>\n",
       "      <td>2667.424305</td>\n",
       "      <td>21.405148</td>\n",
       "    </tr>\n",
       "    <tr>\n",
       "      <th>96</th>\n",
       "      <td>False</td>\n",
       "      <td>cigar</td>\n",
       "      <td>111</td>\n",
       "      <td>222</td>\n",
       "      <td>Italy</td>\n",
       "      <td>139</td>\n",
       "      <td>11118.662308</td>\n",
       "      <td>sea</td>\n",
       "      <td>asia</td>\n",
       "      <td>2019-05-02</td>\n",
       "      <td>2019-06-10</td>\n",
       "      <td>2612.563721</td>\n",
       "      <td>2737.576055</td>\n",
       "      <td>39.038591</td>\n",
       "    </tr>\n",
       "    <tr>\n",
       "      <th>96</th>\n",
       "      <td>False</td>\n",
       "      <td>cigar</td>\n",
       "      <td>111</td>\n",
       "      <td>222</td>\n",
       "      <td>Italy</td>\n",
       "      <td>139</td>\n",
       "      <td>11118.662308</td>\n",
       "      <td>sea</td>\n",
       "      <td>asia</td>\n",
       "      <td>2019-05-02</td>\n",
       "      <td>2019-06-10</td>\n",
       "      <td>2612.563721</td>\n",
       "      <td>2737.576055</td>\n",
       "      <td>39.038591</td>\n",
       "    </tr>\n",
       "    <tr>\n",
       "      <th>97</th>\n",
       "      <td>False</td>\n",
       "      <td>cigar</td>\n",
       "      <td>111</td>\n",
       "      <td>222</td>\n",
       "      <td>Italy</td>\n",
       "      <td>144</td>\n",
       "      <td>10849.145863</td>\n",
       "      <td>sea</td>\n",
       "      <td>america</td>\n",
       "      <td>2019-05-09</td>\n",
       "      <td>2019-09-09</td>\n",
       "      <td>291.849891</td>\n",
       "      <td>303.328673</td>\n",
       "      <td>123.277846</td>\n",
       "    </tr>\n",
       "    <tr>\n",
       "      <th>105</th>\n",
       "      <td>False</td>\n",
       "      <td>cigar</td>\n",
       "      <td>111</td>\n",
       "      <td>222</td>\n",
       "      <td>China</td>\n",
       "      <td>139</td>\n",
       "      <td>4174.018265</td>\n",
       "      <td>sea</td>\n",
       "      <td>america</td>\n",
       "      <td>2019-05-12</td>\n",
       "      <td>2019-09-25</td>\n",
       "      <td>231.583758</td>\n",
       "      <td>243.047276</td>\n",
       "      <td>135.627561</td>\n",
       "    </tr>\n",
       "    <tr>\n",
       "      <th>112</th>\n",
       "      <td>False</td>\n",
       "      <td>cigar</td>\n",
       "      <td>111</td>\n",
       "      <td>222</td>\n",
       "      <td>France</td>\n",
       "      <td>145</td>\n",
       "      <td>10686.569440</td>\n",
       "      <td>sea</td>\n",
       "      <td>asia</td>\n",
       "      <td>2019-05-01</td>\n",
       "      <td>2019-07-03</td>\n",
       "      <td>2806.338955</td>\n",
       "      <td>2918.681683</td>\n",
       "      <td>63.314998</td>\n",
       "    </tr>\n",
       "    <tr>\n",
       "      <th>112</th>\n",
       "      <td>False</td>\n",
       "      <td>cigar</td>\n",
       "      <td>111</td>\n",
       "      <td>222</td>\n",
       "      <td>France</td>\n",
       "      <td>145</td>\n",
       "      <td>10686.569440</td>\n",
       "      <td>sea</td>\n",
       "      <td>asia</td>\n",
       "      <td>2019-05-01</td>\n",
       "      <td>2019-07-03</td>\n",
       "      <td>2806.338955</td>\n",
       "      <td>2918.681683</td>\n",
       "      <td>63.314998</td>\n",
       "    </tr>\n",
       "  </tbody>\n",
       "</table>\n",
       "</div>"
      ],
      "text/plain": [
       "     valid_import   item  importer_id  exporter_id country_of_origin  \\\n",
       "18           True  cigar          111          222             Italy   \n",
       "33           True  cigar          111          222            France   \n",
       "35           True  cigar          111          222            France   \n",
       "36           True  cigar          111          222             Italy   \n",
       "61          False  cigar          111          222             India   \n",
       "69          False  cigar          111          222               USA   \n",
       "73          False  cigar          111          222            France   \n",
       "74          False  cigar          111          222            France   \n",
       "81          False  cigar          111          222             India   \n",
       "85          False  cigar          111          222             China   \n",
       "88          False  cigar          111          222               USA   \n",
       "88          False  cigar          111          222               USA   \n",
       "96          False  cigar          111          222             Italy   \n",
       "96          False  cigar          111          222             Italy   \n",
       "97          False  cigar          111          222             Italy   \n",
       "105         False  cigar          111          222             China   \n",
       "112         False  cigar          111          222            France   \n",
       "112         False  cigar          111          222            France   \n",
       "\n",
       "     declared_quantity  declared_cost mode_of_transport    route  \\\n",
       "18                 138   13364.901196               sea   europe   \n",
       "33                 132   13142.645017               sea  america   \n",
       "35                 146   14281.325362               sea   panama   \n",
       "36                 139   13561.249072               sea     asia   \n",
       "61                 131    1594.074225               sea  america   \n",
       "69                 140   10118.224045               sea  america   \n",
       "73                 110    8953.524711               sea  america   \n",
       "74                 135   12820.995855               sea   europe   \n",
       "81                 134    3326.973672               sea  america   \n",
       "85                 113    5745.640896               sea  america   \n",
       "88                 140    6189.073792               sea     asia   \n",
       "88                 140    6189.073792               sea     asia   \n",
       "96                 139   11118.662308               sea     asia   \n",
       "96                 139   11118.662308               sea     asia   \n",
       "97                 144   10849.145863               sea  america   \n",
       "105                139    4174.018265               sea  america   \n",
       "112                145   10686.569440               sea     asia   \n",
       "112                145   10686.569440               sea     asia   \n",
       "\n",
       "    date_of_departure date_of_arrival  declared_weight  actual_weight  \\\n",
       "18         2019-04-30      2019-05-20      1233.268557    1252.449858   \n",
       "33         2019-05-07      2019-06-08      1438.252279    1495.968364   \n",
       "35         2019-05-05      2019-05-21       759.632361     779.116176   \n",
       "36         2019-04-26      2019-05-18      1378.217354    1398.945854   \n",
       "61         2019-05-08      2019-09-01      1489.554025    1551.161701   \n",
       "69         2019-05-03      2019-08-04      2406.827181    2503.169043   \n",
       "73         2019-05-16      2019-09-13       193.130429     200.966710   \n",
       "74         2019-05-15      2019-06-01       649.710812     672.221478   \n",
       "81         2019-05-12      2019-10-07       280.984620     289.694339   \n",
       "85         2019-04-22      2019-08-28       627.941986     655.845304   \n",
       "88         2019-05-10      2019-05-31      2586.146073    2667.424305   \n",
       "88         2019-05-10      2019-05-31      2586.146073    2667.424305   \n",
       "96         2019-05-02      2019-06-10      2612.563721    2737.576055   \n",
       "96         2019-05-02      2019-06-10      2612.563721    2737.576055   \n",
       "97         2019-05-09      2019-09-09       291.849891     303.328673   \n",
       "105        2019-05-12      2019-09-25       231.583758     243.047276   \n",
       "112        2019-05-01      2019-07-03      2806.338955    2918.681683   \n",
       "112        2019-05-01      2019-07-03      2806.338955    2918.681683   \n",
       "\n",
       "     days_in_transit  \n",
       "18         19.829684  \n",
       "33         31.617050  \n",
       "35         16.468842  \n",
       "36         22.102197  \n",
       "61        116.140911  \n",
       "69         93.250226  \n",
       "73        120.406246  \n",
       "74         16.821482  \n",
       "81        147.787560  \n",
       "85        128.416712  \n",
       "88         21.405148  \n",
       "88         21.405148  \n",
       "96         39.038591  \n",
       "96         39.038591  \n",
       "97        123.277846  \n",
       "105       135.627561  \n",
       "112        63.314998  \n",
       "112        63.314998  "
      ]
     },
     "execution_count": 15,
     "metadata": {},
     "output_type": "execute_result"
    }
   ],
   "source": [
    "# z-score para o dataset\n",
    "z = np.abs(scipy.stats.zscore(df_data[columns].values))\n",
    "threshold = 2\n",
    "result = np.where(z > threshold)\n",
    "df_data_outliers = df_data.iloc[result[0]]\n",
    "\n",
    "# mostrando o dataset com as anomalias(outliers)\n",
    "df_data_outliers"
   ]
  },
  {
   "cell_type": "code",
   "execution_count": 16,
   "metadata": {},
   "outputs": [
    {
     "name": "stdout",
     "output_type": "stream",
     "text": [
      "18\n"
     ]
    }
   ],
   "source": [
    "# mostrando a quantidade de outiliers contidos no dataset\n",
    "print(len(df_data_outliers))"
   ]
  },
  {
   "cell_type": "code",
   "execution_count": 17,
   "metadata": {},
   "outputs": [
    {
     "data": {
      "text/plain": [
       "Int64Index([18, 33, 35, 36, 61, 69, 73, 74, 81, 85, 88, 96, 97, 105, 112], dtype='int64')"
      ]
     },
     "execution_count": 17,
     "metadata": {},
     "output_type": "execute_result"
    }
   ],
   "source": [
    "# vendo os indices únicos\n",
    "df_data_outliers.index.unique()"
   ]
  },
  {
   "cell_type": "code",
   "execution_count": 18,
   "metadata": {},
   "outputs": [
    {
     "data": {
      "text/html": [
       "<div>\n",
       "<style scoped>\n",
       "    .dataframe tbody tr th:only-of-type {\n",
       "        vertical-align: middle;\n",
       "    }\n",
       "\n",
       "    .dataframe tbody tr th {\n",
       "        vertical-align: top;\n",
       "    }\n",
       "\n",
       "    .dataframe thead th {\n",
       "        text-align: right;\n",
       "    }\n",
       "</style>\n",
       "<table border=\"1\" class=\"dataframe\">\n",
       "  <thead>\n",
       "    <tr style=\"text-align: right;\">\n",
       "      <th></th>\n",
       "      <th>valid_import</th>\n",
       "      <th>item</th>\n",
       "      <th>importer_id</th>\n",
       "      <th>exporter_id</th>\n",
       "      <th>country_of_origin</th>\n",
       "      <th>declared_quantity</th>\n",
       "      <th>declared_cost</th>\n",
       "      <th>mode_of_transport</th>\n",
       "      <th>route</th>\n",
       "      <th>date_of_departure</th>\n",
       "      <th>date_of_arrival</th>\n",
       "      <th>declared_weight</th>\n",
       "      <th>actual_weight</th>\n",
       "      <th>days_in_transit</th>\n",
       "    </tr>\n",
       "  </thead>\n",
       "  <tbody>\n",
       "    <tr>\n",
       "      <th>18</th>\n",
       "      <td>True</td>\n",
       "      <td>cigar</td>\n",
       "      <td>111</td>\n",
       "      <td>222</td>\n",
       "      <td>Italy</td>\n",
       "      <td>138</td>\n",
       "      <td>13364.901196</td>\n",
       "      <td>sea</td>\n",
       "      <td>europe</td>\n",
       "      <td>2019-04-30</td>\n",
       "      <td>2019-05-20</td>\n",
       "      <td>1233.268557</td>\n",
       "      <td>1252.449858</td>\n",
       "      <td>19.829684</td>\n",
       "    </tr>\n",
       "    <tr>\n",
       "      <th>33</th>\n",
       "      <td>True</td>\n",
       "      <td>cigar</td>\n",
       "      <td>111</td>\n",
       "      <td>222</td>\n",
       "      <td>France</td>\n",
       "      <td>132</td>\n",
       "      <td>13142.645017</td>\n",
       "      <td>sea</td>\n",
       "      <td>america</td>\n",
       "      <td>2019-05-07</td>\n",
       "      <td>2019-06-08</td>\n",
       "      <td>1438.252279</td>\n",
       "      <td>1495.968364</td>\n",
       "      <td>31.617050</td>\n",
       "    </tr>\n",
       "    <tr>\n",
       "      <th>35</th>\n",
       "      <td>True</td>\n",
       "      <td>cigar</td>\n",
       "      <td>111</td>\n",
       "      <td>222</td>\n",
       "      <td>France</td>\n",
       "      <td>146</td>\n",
       "      <td>14281.325362</td>\n",
       "      <td>sea</td>\n",
       "      <td>panama</td>\n",
       "      <td>2019-05-05</td>\n",
       "      <td>2019-05-21</td>\n",
       "      <td>759.632361</td>\n",
       "      <td>779.116176</td>\n",
       "      <td>16.468842</td>\n",
       "    </tr>\n",
       "    <tr>\n",
       "      <th>36</th>\n",
       "      <td>True</td>\n",
       "      <td>cigar</td>\n",
       "      <td>111</td>\n",
       "      <td>222</td>\n",
       "      <td>Italy</td>\n",
       "      <td>139</td>\n",
       "      <td>13561.249072</td>\n",
       "      <td>sea</td>\n",
       "      <td>asia</td>\n",
       "      <td>2019-04-26</td>\n",
       "      <td>2019-05-18</td>\n",
       "      <td>1378.217354</td>\n",
       "      <td>1398.945854</td>\n",
       "      <td>22.102197</td>\n",
       "    </tr>\n",
       "    <tr>\n",
       "      <th>74</th>\n",
       "      <td>False</td>\n",
       "      <td>cigar</td>\n",
       "      <td>111</td>\n",
       "      <td>222</td>\n",
       "      <td>France</td>\n",
       "      <td>135</td>\n",
       "      <td>12820.995855</td>\n",
       "      <td>sea</td>\n",
       "      <td>europe</td>\n",
       "      <td>2019-05-15</td>\n",
       "      <td>2019-06-01</td>\n",
       "      <td>649.710812</td>\n",
       "      <td>672.221478</td>\n",
       "      <td>16.821482</td>\n",
       "    </tr>\n",
       "  </tbody>\n",
       "</table>\n",
       "</div>"
      ],
      "text/plain": [
       "    valid_import   item  importer_id  exporter_id country_of_origin  \\\n",
       "18          True  cigar          111          222             Italy   \n",
       "33          True  cigar          111          222            France   \n",
       "35          True  cigar          111          222            France   \n",
       "36          True  cigar          111          222             Italy   \n",
       "74         False  cigar          111          222            France   \n",
       "\n",
       "    declared_quantity  declared_cost mode_of_transport    route  \\\n",
       "18                138   13364.901196               sea   europe   \n",
       "33                132   13142.645017               sea  america   \n",
       "35                146   14281.325362               sea   panama   \n",
       "36                139   13561.249072               sea     asia   \n",
       "74                135   12820.995855               sea   europe   \n",
       "\n",
       "   date_of_departure date_of_arrival  declared_weight  actual_weight  \\\n",
       "18        2019-04-30      2019-05-20      1233.268557    1252.449858   \n",
       "33        2019-05-07      2019-06-08      1438.252279    1495.968364   \n",
       "35        2019-05-05      2019-05-21       759.632361     779.116176   \n",
       "36        2019-04-26      2019-05-18      1378.217354    1398.945854   \n",
       "74        2019-05-15      2019-06-01       649.710812     672.221478   \n",
       "\n",
       "    days_in_transit  \n",
       "18        19.829684  \n",
       "33        31.617050  \n",
       "35        16.468842  \n",
       "36        22.102197  \n",
       "74        16.821482  "
      ]
     },
     "execution_count": 18,
     "metadata": {},
     "output_type": "execute_result"
    }
   ],
   "source": [
    "# z-score para a feature declared_cost\n",
    "z = np.abs(scipy.stats.zscore(df_data[\"declared_cost\"].values))\n",
    "threshold = 2\n",
    "result = np.where(z > threshold)\n",
    "df_data_outliers_dc = df_data.iloc[result[0]]\n",
    "\n",
    "# mostrando o dataset com anomalias\n",
    "df_data_outliers_dc"
   ]
  },
  {
   "cell_type": "code",
   "execution_count": 19,
   "metadata": {},
   "outputs": [
    {
     "name": "stdout",
     "output_type": "stream",
     "text": [
      "5\n"
     ]
    }
   ],
   "source": [
    "# mostrando a quantidade de outliers para a feature declared_cost\n",
    "print(len(df_data_outliers_dc))"
   ]
  },
  {
   "cell_type": "code",
   "execution_count": 20,
   "metadata": {},
   "outputs": [
    {
     "data": {
      "text/html": [
       "<div>\n",
       "<style scoped>\n",
       "    .dataframe tbody tr th:only-of-type {\n",
       "        vertical-align: middle;\n",
       "    }\n",
       "\n",
       "    .dataframe tbody tr th {\n",
       "        vertical-align: top;\n",
       "    }\n",
       "\n",
       "    .dataframe thead th {\n",
       "        text-align: right;\n",
       "    }\n",
       "</style>\n",
       "<table border=\"1\" class=\"dataframe\">\n",
       "  <thead>\n",
       "    <tr style=\"text-align: right;\">\n",
       "      <th></th>\n",
       "      <th>valid_import</th>\n",
       "      <th>item</th>\n",
       "      <th>importer_id</th>\n",
       "      <th>exporter_id</th>\n",
       "      <th>country_of_origin</th>\n",
       "      <th>declared_quantity</th>\n",
       "      <th>declared_cost</th>\n",
       "      <th>mode_of_transport</th>\n",
       "      <th>route</th>\n",
       "      <th>date_of_departure</th>\n",
       "      <th>date_of_arrival</th>\n",
       "      <th>declared_weight</th>\n",
       "      <th>actual_weight</th>\n",
       "      <th>days_in_transit</th>\n",
       "    </tr>\n",
       "  </thead>\n",
       "  <tbody>\n",
       "    <tr>\n",
       "      <th>88</th>\n",
       "      <td>False</td>\n",
       "      <td>cigar</td>\n",
       "      <td>111</td>\n",
       "      <td>222</td>\n",
       "      <td>USA</td>\n",
       "      <td>140</td>\n",
       "      <td>6189.073792</td>\n",
       "      <td>sea</td>\n",
       "      <td>asia</td>\n",
       "      <td>2019-05-10</td>\n",
       "      <td>2019-05-31</td>\n",
       "      <td>2586.146073</td>\n",
       "      <td>2667.424305</td>\n",
       "      <td>21.405148</td>\n",
       "    </tr>\n",
       "    <tr>\n",
       "      <th>96</th>\n",
       "      <td>False</td>\n",
       "      <td>cigar</td>\n",
       "      <td>111</td>\n",
       "      <td>222</td>\n",
       "      <td>Italy</td>\n",
       "      <td>139</td>\n",
       "      <td>11118.662308</td>\n",
       "      <td>sea</td>\n",
       "      <td>asia</td>\n",
       "      <td>2019-05-02</td>\n",
       "      <td>2019-06-10</td>\n",
       "      <td>2612.563721</td>\n",
       "      <td>2737.576055</td>\n",
       "      <td>39.038591</td>\n",
       "    </tr>\n",
       "    <tr>\n",
       "      <th>112</th>\n",
       "      <td>False</td>\n",
       "      <td>cigar</td>\n",
       "      <td>111</td>\n",
       "      <td>222</td>\n",
       "      <td>France</td>\n",
       "      <td>145</td>\n",
       "      <td>10686.569440</td>\n",
       "      <td>sea</td>\n",
       "      <td>asia</td>\n",
       "      <td>2019-05-01</td>\n",
       "      <td>2019-07-03</td>\n",
       "      <td>2806.338955</td>\n",
       "      <td>2918.681683</td>\n",
       "      <td>63.314998</td>\n",
       "    </tr>\n",
       "  </tbody>\n",
       "</table>\n",
       "</div>"
      ],
      "text/plain": [
       "     valid_import   item  importer_id  exporter_id country_of_origin  \\\n",
       "88          False  cigar          111          222               USA   \n",
       "96          False  cigar          111          222             Italy   \n",
       "112         False  cigar          111          222            France   \n",
       "\n",
       "     declared_quantity  declared_cost mode_of_transport route  \\\n",
       "88                 140    6189.073792               sea  asia   \n",
       "96                 139   11118.662308               sea  asia   \n",
       "112                145   10686.569440               sea  asia   \n",
       "\n",
       "    date_of_departure date_of_arrival  declared_weight  actual_weight  \\\n",
       "88         2019-05-10      2019-05-31      2586.146073    2667.424305   \n",
       "96         2019-05-02      2019-06-10      2612.563721    2737.576055   \n",
       "112        2019-05-01      2019-07-03      2806.338955    2918.681683   \n",
       "\n",
       "     days_in_transit  \n",
       "88         21.405148  \n",
       "96         39.038591  \n",
       "112        63.314998  "
      ]
     },
     "execution_count": 20,
     "metadata": {},
     "output_type": "execute_result"
    }
   ],
   "source": [
    "# z-score para a feature declared_weight\n",
    "z = np.abs(scipy.stats.zscore(df_data[\"declared_weight\"].values))\n",
    "threshold = 2\n",
    "result = np.where(z > threshold)\n",
    "df_data_outliers_dw = df_data.iloc[result[0]]\n",
    "\n",
    "# mostrando o dataset com anomalias\n",
    "df_data_outliers_dw"
   ]
  },
  {
   "cell_type": "code",
   "execution_count": 21,
   "metadata": {},
   "outputs": [
    {
     "name": "stdout",
     "output_type": "stream",
     "text": [
      "3\n"
     ]
    }
   ],
   "source": [
    "# mostrando a quantidade de outliers para a feature declared_weight\n",
    "print(len(df_data_outliers_dw))"
   ]
  },
  {
   "cell_type": "code",
   "execution_count": 22,
   "metadata": {},
   "outputs": [
    {
     "data": {
      "text/html": [
       "<div>\n",
       "<style scoped>\n",
       "    .dataframe tbody tr th:only-of-type {\n",
       "        vertical-align: middle;\n",
       "    }\n",
       "\n",
       "    .dataframe tbody tr th {\n",
       "        vertical-align: top;\n",
       "    }\n",
       "\n",
       "    .dataframe thead th {\n",
       "        text-align: right;\n",
       "    }\n",
       "</style>\n",
       "<table border=\"1\" class=\"dataframe\">\n",
       "  <thead>\n",
       "    <tr style=\"text-align: right;\">\n",
       "      <th></th>\n",
       "      <th>valid_import</th>\n",
       "      <th>item</th>\n",
       "      <th>importer_id</th>\n",
       "      <th>exporter_id</th>\n",
       "      <th>country_of_origin</th>\n",
       "      <th>declared_quantity</th>\n",
       "      <th>declared_cost</th>\n",
       "      <th>mode_of_transport</th>\n",
       "      <th>route</th>\n",
       "      <th>date_of_departure</th>\n",
       "      <th>date_of_arrival</th>\n",
       "      <th>declared_weight</th>\n",
       "      <th>actual_weight</th>\n",
       "      <th>days_in_transit</th>\n",
       "    </tr>\n",
       "  </thead>\n",
       "  <tbody>\n",
       "    <tr>\n",
       "      <th>88</th>\n",
       "      <td>False</td>\n",
       "      <td>cigar</td>\n",
       "      <td>111</td>\n",
       "      <td>222</td>\n",
       "      <td>USA</td>\n",
       "      <td>140</td>\n",
       "      <td>6189.073792</td>\n",
       "      <td>sea</td>\n",
       "      <td>asia</td>\n",
       "      <td>2019-05-10</td>\n",
       "      <td>2019-05-31</td>\n",
       "      <td>2586.146073</td>\n",
       "      <td>2667.424305</td>\n",
       "      <td>21.405148</td>\n",
       "    </tr>\n",
       "    <tr>\n",
       "      <th>96</th>\n",
       "      <td>False</td>\n",
       "      <td>cigar</td>\n",
       "      <td>111</td>\n",
       "      <td>222</td>\n",
       "      <td>Italy</td>\n",
       "      <td>139</td>\n",
       "      <td>11118.662308</td>\n",
       "      <td>sea</td>\n",
       "      <td>asia</td>\n",
       "      <td>2019-05-02</td>\n",
       "      <td>2019-06-10</td>\n",
       "      <td>2612.563721</td>\n",
       "      <td>2737.576055</td>\n",
       "      <td>39.038591</td>\n",
       "    </tr>\n",
       "    <tr>\n",
       "      <th>112</th>\n",
       "      <td>False</td>\n",
       "      <td>cigar</td>\n",
       "      <td>111</td>\n",
       "      <td>222</td>\n",
       "      <td>France</td>\n",
       "      <td>145</td>\n",
       "      <td>10686.569440</td>\n",
       "      <td>sea</td>\n",
       "      <td>asia</td>\n",
       "      <td>2019-05-01</td>\n",
       "      <td>2019-07-03</td>\n",
       "      <td>2806.338955</td>\n",
       "      <td>2918.681683</td>\n",
       "      <td>63.314998</td>\n",
       "    </tr>\n",
       "  </tbody>\n",
       "</table>\n",
       "</div>"
      ],
      "text/plain": [
       "     valid_import   item  importer_id  exporter_id country_of_origin  \\\n",
       "88          False  cigar          111          222               USA   \n",
       "96          False  cigar          111          222             Italy   \n",
       "112         False  cigar          111          222            France   \n",
       "\n",
       "     declared_quantity  declared_cost mode_of_transport route  \\\n",
       "88                 140    6189.073792               sea  asia   \n",
       "96                 139   11118.662308               sea  asia   \n",
       "112                145   10686.569440               sea  asia   \n",
       "\n",
       "    date_of_departure date_of_arrival  declared_weight  actual_weight  \\\n",
       "88         2019-05-10      2019-05-31      2586.146073    2667.424305   \n",
       "96         2019-05-02      2019-06-10      2612.563721    2737.576055   \n",
       "112        2019-05-01      2019-07-03      2806.338955    2918.681683   \n",
       "\n",
       "     days_in_transit  \n",
       "88         21.405148  \n",
       "96         39.038591  \n",
       "112        63.314998  "
      ]
     },
     "execution_count": 22,
     "metadata": {},
     "output_type": "execute_result"
    }
   ],
   "source": [
    "# z-score para a feature actual_weight\n",
    "z = np.abs(scipy.stats.zscore(df_data[\"actual_weight\"].values))\n",
    "threshold = 2\n",
    "result = np.where(z > threshold)\n",
    "df_data_outliers_aw = df_data.iloc[result[0]]\n",
    "\n",
    "# mostrando o dataset com anomalias\n",
    "df_data_outliers_aw"
   ]
  },
  {
   "cell_type": "code",
   "execution_count": 23,
   "metadata": {},
   "outputs": [
    {
     "name": "stdout",
     "output_type": "stream",
     "text": [
      "3\n"
     ]
    }
   ],
   "source": [
    "# mostrando a quantidade de outliers para a feature actual_weight\n",
    "print(len(df_data_outliers_aw))"
   ]
  },
  {
   "cell_type": "code",
   "execution_count": 24,
   "metadata": {},
   "outputs": [
    {
     "data": {
      "text/html": [
       "<div>\n",
       "<style scoped>\n",
       "    .dataframe tbody tr th:only-of-type {\n",
       "        vertical-align: middle;\n",
       "    }\n",
       "\n",
       "    .dataframe tbody tr th {\n",
       "        vertical-align: top;\n",
       "    }\n",
       "\n",
       "    .dataframe thead th {\n",
       "        text-align: right;\n",
       "    }\n",
       "</style>\n",
       "<table border=\"1\" class=\"dataframe\">\n",
       "  <thead>\n",
       "    <tr style=\"text-align: right;\">\n",
       "      <th></th>\n",
       "      <th>valid_import</th>\n",
       "      <th>item</th>\n",
       "      <th>importer_id</th>\n",
       "      <th>exporter_id</th>\n",
       "      <th>country_of_origin</th>\n",
       "      <th>declared_quantity</th>\n",
       "      <th>declared_cost</th>\n",
       "      <th>mode_of_transport</th>\n",
       "      <th>route</th>\n",
       "      <th>date_of_departure</th>\n",
       "      <th>date_of_arrival</th>\n",
       "      <th>declared_weight</th>\n",
       "      <th>actual_weight</th>\n",
       "      <th>days_in_transit</th>\n",
       "    </tr>\n",
       "  </thead>\n",
       "  <tbody>\n",
       "    <tr>\n",
       "      <th>61</th>\n",
       "      <td>False</td>\n",
       "      <td>cigar</td>\n",
       "      <td>111</td>\n",
       "      <td>222</td>\n",
       "      <td>India</td>\n",
       "      <td>131</td>\n",
       "      <td>1594.074225</td>\n",
       "      <td>sea</td>\n",
       "      <td>america</td>\n",
       "      <td>2019-05-08</td>\n",
       "      <td>2019-09-01</td>\n",
       "      <td>1489.554025</td>\n",
       "      <td>1551.161701</td>\n",
       "      <td>116.140911</td>\n",
       "    </tr>\n",
       "    <tr>\n",
       "      <th>69</th>\n",
       "      <td>False</td>\n",
       "      <td>cigar</td>\n",
       "      <td>111</td>\n",
       "      <td>222</td>\n",
       "      <td>USA</td>\n",
       "      <td>140</td>\n",
       "      <td>10118.224045</td>\n",
       "      <td>sea</td>\n",
       "      <td>america</td>\n",
       "      <td>2019-05-03</td>\n",
       "      <td>2019-08-04</td>\n",
       "      <td>2406.827181</td>\n",
       "      <td>2503.169043</td>\n",
       "      <td>93.250226</td>\n",
       "    </tr>\n",
       "    <tr>\n",
       "      <th>73</th>\n",
       "      <td>False</td>\n",
       "      <td>cigar</td>\n",
       "      <td>111</td>\n",
       "      <td>222</td>\n",
       "      <td>France</td>\n",
       "      <td>110</td>\n",
       "      <td>8953.524711</td>\n",
       "      <td>sea</td>\n",
       "      <td>america</td>\n",
       "      <td>2019-05-16</td>\n",
       "      <td>2019-09-13</td>\n",
       "      <td>193.130429</td>\n",
       "      <td>200.966710</td>\n",
       "      <td>120.406246</td>\n",
       "    </tr>\n",
       "    <tr>\n",
       "      <th>81</th>\n",
       "      <td>False</td>\n",
       "      <td>cigar</td>\n",
       "      <td>111</td>\n",
       "      <td>222</td>\n",
       "      <td>India</td>\n",
       "      <td>134</td>\n",
       "      <td>3326.973672</td>\n",
       "      <td>sea</td>\n",
       "      <td>america</td>\n",
       "      <td>2019-05-12</td>\n",
       "      <td>2019-10-07</td>\n",
       "      <td>280.984620</td>\n",
       "      <td>289.694339</td>\n",
       "      <td>147.787560</td>\n",
       "    </tr>\n",
       "    <tr>\n",
       "      <th>85</th>\n",
       "      <td>False</td>\n",
       "      <td>cigar</td>\n",
       "      <td>111</td>\n",
       "      <td>222</td>\n",
       "      <td>China</td>\n",
       "      <td>113</td>\n",
       "      <td>5745.640896</td>\n",
       "      <td>sea</td>\n",
       "      <td>america</td>\n",
       "      <td>2019-04-22</td>\n",
       "      <td>2019-08-28</td>\n",
       "      <td>627.941986</td>\n",
       "      <td>655.845304</td>\n",
       "      <td>128.416712</td>\n",
       "    </tr>\n",
       "    <tr>\n",
       "      <th>97</th>\n",
       "      <td>False</td>\n",
       "      <td>cigar</td>\n",
       "      <td>111</td>\n",
       "      <td>222</td>\n",
       "      <td>Italy</td>\n",
       "      <td>144</td>\n",
       "      <td>10849.145863</td>\n",
       "      <td>sea</td>\n",
       "      <td>america</td>\n",
       "      <td>2019-05-09</td>\n",
       "      <td>2019-09-09</td>\n",
       "      <td>291.849891</td>\n",
       "      <td>303.328673</td>\n",
       "      <td>123.277846</td>\n",
       "    </tr>\n",
       "    <tr>\n",
       "      <th>105</th>\n",
       "      <td>False</td>\n",
       "      <td>cigar</td>\n",
       "      <td>111</td>\n",
       "      <td>222</td>\n",
       "      <td>China</td>\n",
       "      <td>139</td>\n",
       "      <td>4174.018265</td>\n",
       "      <td>sea</td>\n",
       "      <td>america</td>\n",
       "      <td>2019-05-12</td>\n",
       "      <td>2019-09-25</td>\n",
       "      <td>231.583758</td>\n",
       "      <td>243.047276</td>\n",
       "      <td>135.627561</td>\n",
       "    </tr>\n",
       "  </tbody>\n",
       "</table>\n",
       "</div>"
      ],
      "text/plain": [
       "     valid_import   item  importer_id  exporter_id country_of_origin  \\\n",
       "61          False  cigar          111          222             India   \n",
       "69          False  cigar          111          222               USA   \n",
       "73          False  cigar          111          222            France   \n",
       "81          False  cigar          111          222             India   \n",
       "85          False  cigar          111          222             China   \n",
       "97          False  cigar          111          222             Italy   \n",
       "105         False  cigar          111          222             China   \n",
       "\n",
       "     declared_quantity  declared_cost mode_of_transport    route  \\\n",
       "61                 131    1594.074225               sea  america   \n",
       "69                 140   10118.224045               sea  america   \n",
       "73                 110    8953.524711               sea  america   \n",
       "81                 134    3326.973672               sea  america   \n",
       "85                 113    5745.640896               sea  america   \n",
       "97                 144   10849.145863               sea  america   \n",
       "105                139    4174.018265               sea  america   \n",
       "\n",
       "    date_of_departure date_of_arrival  declared_weight  actual_weight  \\\n",
       "61         2019-05-08      2019-09-01      1489.554025    1551.161701   \n",
       "69         2019-05-03      2019-08-04      2406.827181    2503.169043   \n",
       "73         2019-05-16      2019-09-13       193.130429     200.966710   \n",
       "81         2019-05-12      2019-10-07       280.984620     289.694339   \n",
       "85         2019-04-22      2019-08-28       627.941986     655.845304   \n",
       "97         2019-05-09      2019-09-09       291.849891     303.328673   \n",
       "105        2019-05-12      2019-09-25       231.583758     243.047276   \n",
       "\n",
       "     days_in_transit  \n",
       "61        116.140911  \n",
       "69         93.250226  \n",
       "73        120.406246  \n",
       "81        147.787560  \n",
       "85        128.416712  \n",
       "97        123.277846  \n",
       "105       135.627561  "
      ]
     },
     "execution_count": 24,
     "metadata": {},
     "output_type": "execute_result"
    }
   ],
   "source": [
    "# z-score para a feature days_in_transit\n",
    "z = np.abs(scipy.stats.zscore(df_data[\"days_in_transit\"].values))\n",
    "threshold = 2\n",
    "result = np.where(z > threshold)\n",
    "df_data_outliers_dit = df_data.iloc[result[0]]\n",
    "\n",
    "# mostrando o dataset com anomalias(outliers)\n",
    "df_data_outliers_dit"
   ]
  },
  {
   "cell_type": "code",
   "execution_count": 25,
   "metadata": {},
   "outputs": [
    {
     "name": "stdout",
     "output_type": "stream",
     "text": [
      "7\n"
     ]
    }
   ],
   "source": [
    "# mostrando a quantidade de outliers para a feature days_in_transit\n",
    "print(len(df_data_outliers_dit))"
   ]
  },
  {
   "cell_type": "markdown",
   "metadata": {},
   "source": [
    "### Observações\n",
    "- Temos 5 anomalias (outliers) para a feature declared_cost\n",
    "- Temos 3 anomalias (outliers) para a feature declared_weight\n",
    "- Temos 3 anomalias (outliers) para a feature actual_weight\n",
    "- Temos 7 anomalias (outliers) para a feature days_in_transit\n",
    "- Temos 15 anomalias (outliers) ao total do dataset\n",
    "- Índices das anomalias: (18, 33, 35, 36, 61, 69, 73, 74, 81, 85, 88, 96, 97, 105, 112)\n",
    "- Alguns registros se repetem nas features declared_weight e actual_weight (88, 96, 112) "
   ]
  },
  {
   "cell_type": "markdown",
   "metadata": {},
   "source": [
    "## Explorando os Dados"
   ]
  },
  {
   "cell_type": "code",
   "execution_count": 26,
   "metadata": {},
   "outputs": [
    {
     "data": {
      "text/plain": [
       "<matplotlib.axes._subplots.AxesSubplot at 0x19e16e25860>"
      ]
     },
     "execution_count": 26,
     "metadata": {},
     "output_type": "execute_result"
    },
    {
     "data": {
      "text/plain": [
       "Text(0.5, 1.0, 'Distribuição dos Produtos pela Validação da Importação')"
      ]
     },
     "execution_count": 26,
     "metadata": {},
     "output_type": "execute_result"
    },
    {
     "data": {
      "image/png": "[encoded data removed]",
      "text/plain": [
       "<Figure size 432x288 with 1 Axes>"
      ]
     },
     "metadata": {
      "needs_background": "light"
     },
     "output_type": "display_data"
    }
   ],
   "source": [
    "# analisando a distribuição dos produtos pela validação da importação\n",
    "sns.countplot(x=\"valid_import\", data=df_data)\n",
    "plt.title(\"Distribuição dos Produtos pela Validação da Importação\")"
   ]
  },
  {
   "cell_type": "code",
   "execution_count": 27,
   "metadata": {},
   "outputs": [
    {
     "data": {
      "text/plain": [
       "True     60\n",
       "False    60\n",
       "Name: valid_import, dtype: int64"
      ]
     },
     "execution_count": 27,
     "metadata": {},
     "output_type": "execute_result"
    }
   ],
   "source": [
    "# verificando a quantidade de valores da coluna valid_import\n",
    "df_data[\"valid_import\"].value_counts()"
   ]
  },
  {
   "cell_type": "code",
   "execution_count": 28,
   "metadata": {},
   "outputs": [
    {
     "data": {
      "text/plain": [
       "<matplotlib.axes._subplots.AxesSubplot at 0x19e16e7c780>"
      ]
     },
     "execution_count": 28,
     "metadata": {},
     "output_type": "execute_result"
    },
    {
     "data": {
      "text/plain": [
       "Text(0.5, 1.0, 'Distribuição de Produtos por País de Origem')"
      ]
     },
     "execution_count": 28,
     "metadata": {},
     "output_type": "execute_result"
    },
    {
     "data": {
      "image/png": "[encoded data removed]",
      "text/plain": [
       "<Figure size 432x288 with 1 Axes>"
      ]
     },
     "metadata": {
      "needs_background": "light"
     },
     "output_type": "display_data"
    }
   ],
   "source": [
    "# analisando a distribuição dos produtos por país de origem\n",
    "sns.countplot(x=\"country_of_origin\", data=df_data)\n",
    "plt.title(\"Distribuição de Produtos por País de Origem\")"
   ]
  },
  {
   "cell_type": "code",
   "execution_count": 29,
   "metadata": {},
   "outputs": [
    {
     "data": {
      "text/plain": [
       "USA       24\n",
       "India     24\n",
       "Italy     24\n",
       "China     24\n",
       "France    24\n",
       "Name: country_of_origin, dtype: int64"
      ]
     },
     "execution_count": 29,
     "metadata": {},
     "output_type": "execute_result"
    }
   ],
   "source": [
    "# verificando a quantidade de valores da coluna country_of_origin\n",
    "df_data[\"country_of_origin\"].value_counts()"
   ]
  },
  {
   "cell_type": "code",
   "execution_count": 30,
   "metadata": {},
   "outputs": [
    {
     "data": {
      "text/plain": [
       "array([[<matplotlib.axes._subplots.AxesSubplot object at 0x0000019E16EE4518>]],\n",
       "      dtype=object)"
      ]
     },
     "execution_count": 30,
     "metadata": {},
     "output_type": "execute_result"
    },
    {
     "data": {
      "text/plain": [
       "Text(0.5, 1.0, 'Distribuição dos Produtos pela Quantidade Declarada')"
      ]
     },
     "execution_count": 30,
     "metadata": {},
     "output_type": "execute_result"
    },
    {
     "data": {
      "text/plain": [
       "Text(0.5, 0, 'Quantidade Declarada')"
      ]
     },
     "execution_count": 30,
     "metadata": {},
     "output_type": "execute_result"
    },
    {
     "data": {
      "image/png": "[encoded data removed]",
      "text/plain": [
       "<Figure size 432x288 with 1 Axes>"
      ]
     },
     "metadata": {
      "needs_background": "light"
     },
     "output_type": "display_data"
    }
   ],
   "source": [
    "# analisando a distribuição dos produtos quanto a quantidade declarada com histograma\n",
    "df_data.hist(\"declared_quantity\", bins=35)  # seleciona a feature declared_quantity\n",
    "# bins indicam a quantidade de grupos que se deseja dividir os dados\n",
    "plt.title(\"Distribuição dos Produtos pela Quantidade Declarada\")\n",
    "plt.xlabel(\"Quantidade Declarada\")"
   ]
  },
  {
   "cell_type": "code",
   "execution_count": 31,
   "metadata": {},
   "outputs": [
    {
     "data": {
      "text/plain": [
       "140    7\n",
       "135    6\n",
       "139    5\n",
       "141    5\n",
       "138    5\n",
       "Name: declared_quantity, dtype: int64"
      ]
     },
     "execution_count": 31,
     "metadata": {},
     "output_type": "execute_result"
    }
   ],
   "source": [
    "# mostrando os valores unicos da coluna declared_quantity\n",
    "df_data[\"declared_quantity\"].value_counts().head()"
   ]
  },
  {
   "cell_type": "code",
   "execution_count": 32,
   "metadata": {},
   "outputs": [
    {
     "data": {
      "text/plain": [
       "<matplotlib.axes._subplots.AxesSubplot at 0x19e16f9a6d8>"
      ]
     },
     "execution_count": 32,
     "metadata": {},
     "output_type": "execute_result"
    },
    {
     "data": {
      "text/plain": [
       "Text(0.5, 1.0, 'Distribuição dos Produtos pela Rota')"
      ]
     },
     "execution_count": 32,
     "metadata": {},
     "output_type": "execute_result"
    },
    {
     "data": {
      "image/png": "[encoded data removed]",
      "text/plain": [
       "<Figure size 432x288 with 1 Axes>"
      ]
     },
     "metadata": {
      "needs_background": "light"
     },
     "output_type": "display_data"
    }
   ],
   "source": [
    "# analisando a distribuição dos produtos pela rota\n",
    "sns.countplot(x=\"route\", data=df_data)\n",
    "plt.title(\"Distribuição dos Produtos pela Rota\")"
   ]
  },
  {
   "cell_type": "code",
   "execution_count": 33,
   "metadata": {},
   "outputs": [
    {
     "data": {
      "text/plain": [
       "europe     30\n",
       "asia       30\n",
       "america    30\n",
       "panama     30\n",
       "Name: route, dtype: int64"
      ]
     },
     "execution_count": 33,
     "metadata": {},
     "output_type": "execute_result"
    }
   ],
   "source": [
    "# verificando os valores únicos na coluna route\n",
    "df_data[\"route\"].value_counts()"
   ]
  },
  {
   "cell_type": "markdown",
   "metadata": {},
   "source": [
    "### Observações\n",
    "- Temos um dataset equilibrado.\n",
    "- Temos a mesma quantidade de produtos na feature valid_imports:\n",
    "\t- 60 True  (50 %)\n",
    "\t- 60 False (50 %)\n",
    "- Temos a mesma quantidade de produtos na feature country_of_origin:\n",
    "\t- 24 India  (20 %)\n",
    "\t- 24 Italy  (20 %)\n",
    "\t- 24 China  (20 %)\n",
    "\t- 24 France (20 %)\n",
    "\t- 24 USA    (20 %)\n",
    "- Temos a maioria dos produtos com a quantidade declarada de 140.\n",
    "- Temos a mesma quantidade de produtos na feature route:\n",
    "\t- 30 Asia    (25 %)\n",
    "\t- 30 America (25 %)\n",
    "\t- 30 Europe  (25 %)\n",
    "\t- 30 Panama  (25 %)"
   ]
  },
  {
   "cell_type": "markdown",
   "metadata": {},
   "source": [
    "## Aplicando a Regressão Linear"
   ]
  },
  {
   "cell_type": "code",
   "execution_count": 34,
   "metadata": {},
   "outputs": [],
   "source": [
    "# definindo as variáveis\n",
    "X = df_data[\"declared_weight\"].values\n",
    "y = df_data[\"actual_weight\"].values\n",
    "# como o formato dos dados em cada uma das colunas do dataframe são séries é necessário converter array"
   ]
  },
  {
   "cell_type": "code",
   "execution_count": 35,
   "metadata": {},
   "outputs": [
    {
     "data": {
      "text/plain": [
       "LinearRegression(copy_X=True, fit_intercept=True, n_jobs=None, normalize=False)"
      ]
     },
     "execution_count": 35,
     "metadata": {},
     "output_type": "execute_result"
    }
   ],
   "source": [
    "# criando o objeto do modelo de regressão linear\n",
    "reg = LinearRegression()\n",
    "\n",
    "# passando o reshape em X\n",
    "X_reshaped = X.reshape((-1, 1))  # na regressão linear é necessario que o X seja 2D\n",
    "\n",
    "# treinando o modelo\n",
    "reg.fit(X_reshaped, y)\n",
    "\n",
    "# realizando a previsão\n",
    "y_pred = reg.predict(X_reshaped)"
   ]
  },
  {
   "cell_type": "code",
   "execution_count": 36,
   "metadata": {},
   "outputs": [
    {
     "name": "stdout",
     "output_type": "stream",
     "text": [
      "Y = [1.03718115]X -5.296233030439225\n"
     ]
    }
   ],
   "source": [
    "# parâmetros encontrados\n",
    "print(\"Y = {0}X {1}\".format(reg.coef_, reg.intercept_))"
   ]
  },
  {
   "cell_type": "code",
   "execution_count": 37,
   "metadata": {},
   "outputs": [],
   "source": [
    "# criando as métricas\n",
    "mean_abs = mean_absolute_error(y, y_pred)\n",
    "mean_squ = mean_squared_error(y, y_pred)\n",
    "median_abs = median_absolute_error(y, y_pred)\n",
    "coef_R2 = r2_score(y, y_pred)"
   ]
  },
  {
   "cell_type": "code",
   "execution_count": 38,
   "metadata": {},
   "outputs": [
    {
     "name": "stdout",
     "output_type": "stream",
     "text": [
      "Mean Abs Error:   12.8471\n",
      "Mean Squ Error:   287.2241\n",
      "Median Abs Error: 9.7121\n",
      "Coef Determin R2: 0.9993\n",
      "Coef Angular:    [1.03718115]\n",
      "Coef Linear:      -5.296233030439225\n"
     ]
    }
   ],
   "source": [
    "# mostrando as métricas\n",
    "print(\"Mean Abs Error:   {0}\".format(round(mean_abs, 4)))\n",
    "print(\"Mean Squ Error:   {0}\".format(round(mean_squ, 4)))\n",
    "print(\"Median Abs Error: {0}\".format(round(median_abs, 4)))\n",
    "print(\"Coef Determin R2: {0}\".format(round(coef_R2, 4)))\n",
    "print(\"Coef Angular:    {0}\".format(reg.coef_))\n",
    "print(\"Coef Linear:      {0}\".format(reg.intercept_))"
   ]
  },
  {
   "cell_type": "code",
   "execution_count": 40,
   "metadata": {},
   "outputs": [
    {
     "data": {
      "text/plain": [
       "<Figure size 400x400 with 0 Axes>"
      ]
     },
     "execution_count": 40,
     "metadata": {},
     "output_type": "execute_result"
    },
    {
     "data": {
      "text/plain": [
       "<matplotlib.collections.PathCollection at 0x19e16e3bef0>"
      ]
     },
     "execution_count": 40,
     "metadata": {},
     "output_type": "execute_result"
    },
    {
     "data": {
      "text/plain": [
       "[<matplotlib.lines.Line2D at 0x19e16d6b5c0>]"
      ]
     },
     "execution_count": 40,
     "metadata": {},
     "output_type": "execute_result"
    },
    {
     "data": {
      "text/plain": [
       "Text(0.5, 0, 'Peso Declarado')"
      ]
     },
     "execution_count": 40,
     "metadata": {},
     "output_type": "execute_result"
    },
    {
     "data": {
      "text/plain": [
       "Text(0, 0.5, 'Peso Real')"
      ]
     },
     "execution_count": 40,
     "metadata": {},
     "output_type": "execute_result"
    },
    {
     "data": {
      "image/png": "[encoded data removed]",
      "text/plain": [
       "<Figure size 400x400 with 1 Axes>"
      ]
     },
     "metadata": {
      "needs_background": "light"
     },
     "output_type": "display_data"
    }
   ],
   "source": [
    "# realiza o plot do gráfico\n",
    "plt.figure(figsize=(4, 4), dpi=100)\n",
    "plt.scatter(X_reshaped, y, color=\"gray\")  # realiza o plot da dispersão\n",
    "plt.plot(X_reshaped, y_pred, color=\"red\", linewidth=2)  # realiza o plot da linha de regressão\n",
    "plt.xlabel(\"Peso Declarado\")\n",
    "plt.ylabel(\"Peso Real\")\n",
    "plt.show()"
   ]
  },
  {
   "cell_type": "markdown",
   "metadata": {},
   "source": [
    "### Observações\n",
    "- Definimos as variáveis de entrada X (declared_weight) e de saída y (actual_weight)\n",
    "- Criamos o objeto do modelo de regressão\n",
    "- Passamos o X para 2D (reshape)\n",
    "- Treinamos o modelo\n",
    "- Realizamos a previsão\n",
    "- Mostramos os parâmetros otimizados encontrados (coef_, intercept_)\n",
    "- Criamos e mostramos as métricas de avaliação\n",
    "    * Mean Abs Error:   12.8471\n",
    "    * Mean Squ Error:   287.2241\n",
    "    * Median Abs Error: 9.7121\n",
    "    * Coef Determin R2: 0.9993\n",
    "    * Coef Angular:    [1.03718115]\n",
    "    * Coef Linear:      -5.296233030439225\n",
    "- Plotamos o gráfico"
   ]
  },
  {
   "cell_type": "markdown",
   "metadata": {},
   "source": [
    "# Questionário\n",
    "\n",
    "**Pergunta 1:** Para a reta de regressão encontrada no trabalho, qual é o coeficiente angular da reta?\n",
    "-  3.04 \n",
    "-  5.8 \n",
    "- -5.8 \n",
    "-  **1.03**\n",
    " \n",
    "**Pergunta 2:** Qual é o valor médio para a varíavel \"declared_quantity\" presente no dataset?\n",
    "- 1306.42 \n",
    "- 14.67 \n",
    "- **127.45**\n",
    "- 34.42 \n",
    " \n",
    "**Pergunta 3:** Qual das variáveis abaixo é do tipo booleana?\n",
    "- item \n",
    "- importer_id \n",
    "- declared_quantity\n",
    "- **valid_import**\n",
    " \n",
    "**Pergunta 4:** Após a execução da função pd.info() para o dataset presente no trabalho prático, quantos tipos diferentes de variáveis foram mostrados?\n",
    "- 6 \n",
    "- **4**\n",
    "- 5 \n",
    "- 8 \n",
    " \n",
    "**Pergunta 5:** Qual foi a métrica utilizada para avaliar o modelo de regressão do trabalho prático?\n",
    "- **Coeficiente de determinação** \n",
    "- Erro absoluto \n",
    "- Erro médio quadrático \n",
    "- Poisson \n",
    " \n",
    "**Pergunta 6:** Qual é a biblioteca em Python utilizada para criação de dataframes?\n",
    "- Numpy \n",
    "- **Pandas**\n",
    "- Matplotlib \n",
    "- Seaborn \n",
    " \n",
    "**Pergunta 7:** Para o dataset utilizado no trabalho prático, quantas colunas estão presentes?  \n",
    "- 18 \n",
    "- 20 \n",
    "- **14**\n",
    "- 13 \n",
    " \n",
    "**Pergunta 8:** Para a reta de regressão encontrada no trabalho, qual é o coeficiente linear da reta?\n",
    "-  8.7 \n",
    "- -5.8 \n",
    "-  1.03 \n",
    "- **-5.29** \n",
    " \n",
    "**Pergunta 9:** Para a análise de regressão empregada no trabalho prático, qual é a variável preditora?\n",
    "- actual_weight \n",
    "- exporter_id \n",
    "- days_in_transit \n",
    "- **declared_weight** \n",
    " \n",
    "**Pergunta 10:** Analisando o boxplot das variáveis 'declared_quantity' e 'days_in_transit' é possível afirmar:\n",
    "- **Para a variável \"days_in_transit\" existem possíveis outliers.** \n",
    "- Possuem a mesma mediana. \n",
    "- Ambas são valores inteiros. \n",
    "- Não existem evidências de outliers. \n",
    " \n",
    "**Pergunta 11:** Qual é o valor do desvio padrão para a variável \"declared_weight\" presente no dataset do trabalho prático?\n",
    "- 1005.36 \n",
    "- **633.14** \n",
    "- 13.04 \n",
    "- 128,47 \n",
    " \n",
    "**Pergunta 12:** A função head (pandas.head( )) mostra quantas linhas no modo \"padrão\" (default)?\n",
    "- 10 \n",
    "- **5** \n",
    "- 3 \n",
    "- 15 \n",
    " \n",
    "**Pergunta 13:** Para o dataset presente no trabalho prático, quantas colunas são do tipo inteiro (int64)?\n",
    "- 4 \n",
    "- **3**\n",
    "- 1 \n",
    "- 0 \n",
    "\n",
    "**Pergunta 14:** Para o dataset presente no trabalho prático, quantas linhas existem?\n",
    "- 33 \n",
    "- 100 \n",
    "- 14 \n",
    "- **120**\n",
    "\n",
    "**Pergunta 15:** Sobre o coeficiente de determinação encontrado para a reta do trabalho prático, é correto afirmar:\n",
    "- **Possui um valor muito próximo de 1, indicando que ocorreu um bom \"fit\" para os dados**\n",
    "- Não pode ser calculado. \n",
    "- Nada pode ser dito, pois apresenta um valor próximo a zero. \n",
    "- Apresenta valor negativo "
   ]
  }
 ],
 "metadata": {
  "kernelspec": {
   "display_name": "Python 3",
   "language": "python",
   "name": "python3"
  },
  "language_info": {
   "codemirror_mode": {
    "name": "ipython",
    "version": 3
   },
   "file_extension": ".py",
   "mimetype": "text/x-python",
   "name": "python",
   "nbconvert_exporter": "python",
   "pygments_lexer": "ipython3",
   "version": "3.6.10"
  }
 },
 "nbformat": 4,
 "nbformat_minor": 4
}
